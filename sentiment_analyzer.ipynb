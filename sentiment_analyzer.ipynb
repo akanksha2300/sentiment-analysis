{
 "cells": [
  {
   "cell_type": "code",
   "execution_count": 1,
   "id": "75a584ff",
   "metadata": {},
   "outputs": [],
   "source": [
    "from nltk import sent_tokenize, pos_tag\n",
    "from nltk.tokenize import TreebankWordTokenizer\n",
    "from nltk.stem import WordNetLemmatizer\n",
    "from nltk.corpus import wordnet as wn\n",
    "from nltk.corpus import sentiwordnet as swn\n",
    "from nltk.sentiment.util import mark_negation\n",
    "from string import punctuation\n",
    "from IPython.display import display\n",
    "import pandas as pd\n",
    "import numpy as np\n",
    "import seaborn as sns\n",
    "import matplotlib.pyplot as plt\n",
    "pd.set_option('display.max_columns', None)\n",
    "pd.set_option('display.max_colwidth', None)"
   ]
  },
  {
   "cell_type": "code",
   "execution_count": 2,
   "id": "17c45f12",
   "metadata": {},
   "outputs": [],
   "source": [
    "reviews = pd.read_csv(\"/Users/akankshaagrawal/Desktop/sentiment-analysis/small_corpus.csv\")\n"
   ]
  },
  {
   "cell_type": "code",
   "execution_count": 3,
   "id": "c169f423",
   "metadata": {},
   "outputs": [
    {
     "data": {
      "text/html": [
       "<div>\n",
       "<style scoped>\n",
       "    .dataframe tbody tr th:only-of-type {\n",
       "        vertical-align: middle;\n",
       "    }\n",
       "\n",
       "    .dataframe tbody tr th {\n",
       "        vertical-align: top;\n",
       "    }\n",
       "\n",
       "    .dataframe thead th {\n",
       "        text-align: right;\n",
       "    }\n",
       "</style>\n",
       "<table border=\"1\" class=\"dataframe\">\n",
       "  <thead>\n",
       "    <tr style=\"text-align: right;\">\n",
       "      <th></th>\n",
       "      <th>reviewerID</th>\n",
       "      <th>asin</th>\n",
       "      <th>reviewerName</th>\n",
       "      <th>helpful</th>\n",
       "      <th>reviewText</th>\n",
       "      <th>overall</th>\n",
       "      <th>summary</th>\n",
       "      <th>unixReviewTime</th>\n",
       "      <th>reviewTime</th>\n",
       "    </tr>\n",
       "  </thead>\n",
       "  <tbody>\n",
       "    <tr>\n",
       "      <th>0</th>\n",
       "      <td>A2770CT2B6TDKI</td>\n",
       "      <td>B000DLB2FI</td>\n",
       "      <td>Trucky</td>\n",
       "      <td>[0, 2]</td>\n",
       "      <td>I purchased this filter with my Keurig coffee maker, have not used it and probable won't. For the cost of the Keurig coffee maker, which is a great coffee maker, this filter should come with it.</td>\n",
       "      <td>1.0</td>\n",
       "      <td>Not much use</td>\n",
       "      <td>1231632000</td>\n",
       "      <td>01 11, 2009</td>\n",
       "    </tr>\n",
       "    <tr>\n",
       "      <th>1</th>\n",
       "      <td>A2R6QN0TNC48RY</td>\n",
       "      <td>B00266X5IA</td>\n",
       "      <td>Goddess Arya</td>\n",
       "      <td>[0, 0]</td>\n",
       "      <td>Floats, even if I'm on it it tries to float and is impossible to actually lie on it comfortably. Threw it out pretty quick &amp;#62;.&amp;#60;</td>\n",
       "      <td>1.0</td>\n",
       "      <td>floats - useless</td>\n",
       "      <td>1386547200</td>\n",
       "      <td>12 9, 2013</td>\n",
       "    </tr>\n",
       "    <tr>\n",
       "      <th>2</th>\n",
       "      <td>A36D7M4SEM7YQM</td>\n",
       "      <td>B000063CBT</td>\n",
       "      <td>Kimberly Barnhart</td>\n",
       "      <td>[0, 4]</td>\n",
       "      <td>Finally, when it actually WAS over a year since I had received the coffeemaker, when I called to check on the status of my warranty claim, they said, \"Your warranty has expired. You've had this coffeemaker over one year. There is nothing we can do.\" I highly recommend you find a coffeemaker from a manufacturer that stands behind their product! I have a Cuisinart now, and it is WONDERFUL!</td>\n",
       "      <td>1.0</td>\n",
       "      <td>SAVE YOUR MONEY!!!!</td>\n",
       "      <td>1176768000</td>\n",
       "      <td>04 17, 2007</td>\n",
       "    </tr>\n",
       "    <tr>\n",
       "      <th>3</th>\n",
       "      <td>A35JPD8Q492FJC</td>\n",
       "      <td>B0000CFQ4J</td>\n",
       "      <td>Firefly</td>\n",
       "      <td>[10, 10]</td>\n",
       "      <td>Like others have said, these burnished beaters can never be washed in the dishwasher. I had no trouble soaking mine in the sink, but one trip through the DW was all it took to ruin it. The really icky part is I used the beater once before noticing that not only did it not shine, but also it was coated with aluminum powder! YUUUUCK!! Unless you are the kind of person who cooks and immediately cleans up by hand, get the coated kind, because KA no longer makes the stainless beaters. This is a good example of the sad deterioration in overall KA quality.</td>\n",
       "      <td>1.0</td>\n",
       "      <td>Horrible</td>\n",
       "      <td>1338595200</td>\n",
       "      <td>06 2, 2012</td>\n",
       "    </tr>\n",
       "    <tr>\n",
       "      <th>4</th>\n",
       "      <td>A2NX6MFZP8TM6S</td>\n",
       "      <td>B005A32W94</td>\n",
       "      <td>Deanokat</td>\n",
       "      <td>[5, 6]</td>\n",
       "      <td>The concept of the Ambia ACH-120 Portable Two Zone Ceramic Heater is ingenious. A dual-module heater where one of the modules detaches and can be moved up to 6 feet away from the base unit? What a great idea! The heater also generates a decent amount of heat. But the big problem I have with it is the noise it makes. The fan itself is pretty noisy. And because it has a thermostat that cycles the unit on/off in order to maintain a desired temperature, the unit goes on/off quite frequently. To make matters worse, it's not a gradual on/off, either. It's a very abrupt on; and a very abrupt off. And when it goes on, there's a pretty loud click that accompanies that, too. I haven't owned a lot of ceramic heaters. In fact, I only have one other one. But that one has a fan that gradually slows down/speeds up in order to maintain the desired temperature. That approach is much less annoying, in my opinion. The noise this heater makes when it goes on/off even scares my cats. I really like the concept behind this unit. And it does a decent job of heating up a small room. I just don't like the noise it makes. One last point: It would be nice if this heater had more than just the one fan speed setting. A low/high option would've been a nice feature.UPDATE (2/16/13): This heater has been retired from use because of two reasons. 1.) The right unit only works intermittently now. It became a crap shoot as to whether or not the right side would work every time I turned the heater on. Sometimes it would. Sometimes it wouldn't. I felt like it was unsafe to operate the unit. 2.) My wife discovered that while the heater was running the plug got incredibly hot. Not just warm, but HOT. We never plugged it into an extension cord or power strip; only a grounded wall outlet. But the plug got so hot it was almost too hot to touch. Again, it seemed like a safety issue. We already disliked the very noisy fan and the loud clicking noise it made when it came on. The safety concerns were the last straw. I would recommend staying away from this heater.</td>\n",
       "      <td>1.0</td>\n",
       "      <td>Nice concept, but kind of noisy. Safety concerns, too.</td>\n",
       "      <td>1317340800</td>\n",
       "      <td>09 30, 2011</td>\n",
       "    </tr>\n",
       "  </tbody>\n",
       "</table>\n",
       "</div>"
      ],
      "text/plain": [
       "       reviewerID        asin       reviewerName   helpful  \\\n",
       "0  A2770CT2B6TDKI  B000DLB2FI             Trucky    [0, 2]   \n",
       "1  A2R6QN0TNC48RY  B00266X5IA       Goddess Arya    [0, 0]   \n",
       "2  A36D7M4SEM7YQM  B000063CBT  Kimberly Barnhart    [0, 4]   \n",
       "3  A35JPD8Q492FJC  B0000CFQ4J            Firefly  [10, 10]   \n",
       "4  A2NX6MFZP8TM6S  B005A32W94           Deanokat    [5, 6]   \n",
       "\n",
       "                                                                                                                                                                                                                                                                                                                                                                                                                                                                                                                                                                                                                                                                                                                                                                                                                                                                                                                                                                                                                                                                                                                                                                                                                                                                                                                                                                                                                                                                                                                                                                                                                                                                                                                                                                                                                                                                                                                                                                                                                                                                                                                             reviewText  \\\n",
       "0                                                                                                                                                                                                                                                                                                                                                                                                                                                                                                                                                                                                                                                                                                                                                                                                                                                                                                                                                                                                                                                                                                                                                                                                                                                                                                                                                                                                                                                                                                                                                                                                                                                                                                                                                                                                                                                                                                                                    I purchased this filter with my Keurig coffee maker, have not used it and probable won't. For the cost of the Keurig coffee maker, which is a great coffee maker, this filter should come with it.   \n",
       "1                                                                                                                                                                                                                                                                                                                                                                                                                                                                                                                                                                                                                                                                                                                                                                                                                                                                                                                                                                                                                                                                                                                                                                                                                                                                                                                                                                                                                                                                                                                                                                                                                                                                                                                                                                                                                                                                                                                                                                                                Floats, even if I'm on it it tries to float and is impossible to actually lie on it comfortably. Threw it out pretty quick &#62;.&#60;   \n",
       "2                                                                                                                                                                                                                                                                                                                                                                                                                                                                                                                                                                                                                                                                                                                                                                                                                                                                                                                                                                                                                                                                                                                                                                                                                                                                                                                                                                                                                                                                                                                                                                                                                                                                                                                                Finally, when it actually WAS over a year since I had received the coffeemaker, when I called to check on the status of my warranty claim, they said, \"Your warranty has expired. You've had this coffeemaker over one year. There is nothing we can do.\" I highly recommend you find a coffeemaker from a manufacturer that stands behind their product! I have a Cuisinart now, and it is WONDERFUL!   \n",
       "3                                                                                                                                                                                                                                                                                                                                                                                                                                                                                                                                                                                                                                                                                                                                                                                                                                                                                                                                                                                                                                                                                                                                                                                                                                                                                                                                                                                                                                                                                                                                                           Like others have said, these burnished beaters can never be washed in the dishwasher. I had no trouble soaking mine in the sink, but one trip through the DW was all it took to ruin it. The really icky part is I used the beater once before noticing that not only did it not shine, but also it was coated with aluminum powder! YUUUUCK!! Unless you are the kind of person who cooks and immediately cleans up by hand, get the coated kind, because KA no longer makes the stainless beaters. This is a good example of the sad deterioration in overall KA quality.   \n",
       "4  The concept of the Ambia ACH-120 Portable Two Zone Ceramic Heater is ingenious. A dual-module heater where one of the modules detaches and can be moved up to 6 feet away from the base unit? What a great idea! The heater also generates a decent amount of heat. But the big problem I have with it is the noise it makes. The fan itself is pretty noisy. And because it has a thermostat that cycles the unit on/off in order to maintain a desired temperature, the unit goes on/off quite frequently. To make matters worse, it's not a gradual on/off, either. It's a very abrupt on; and a very abrupt off. And when it goes on, there's a pretty loud click that accompanies that, too. I haven't owned a lot of ceramic heaters. In fact, I only have one other one. But that one has a fan that gradually slows down/speeds up in order to maintain the desired temperature. That approach is much less annoying, in my opinion. The noise this heater makes when it goes on/off even scares my cats. I really like the concept behind this unit. And it does a decent job of heating up a small room. I just don't like the noise it makes. One last point: It would be nice if this heater had more than just the one fan speed setting. A low/high option would've been a nice feature.UPDATE (2/16/13): This heater has been retired from use because of two reasons. 1.) The right unit only works intermittently now. It became a crap shoot as to whether or not the right side would work every time I turned the heater on. Sometimes it would. Sometimes it wouldn't. I felt like it was unsafe to operate the unit. 2.) My wife discovered that while the heater was running the plug got incredibly hot. Not just warm, but HOT. We never plugged it into an extension cord or power strip; only a grounded wall outlet. But the plug got so hot it was almost too hot to touch. Again, it seemed like a safety issue. We already disliked the very noisy fan and the loud clicking noise it made when it came on. The safety concerns were the last straw. I would recommend staying away from this heater.   \n",
       "\n",
       "   overall                                                 summary  \\\n",
       "0      1.0                                            Not much use   \n",
       "1      1.0                                        floats - useless   \n",
       "2      1.0                                     SAVE YOUR MONEY!!!!   \n",
       "3      1.0                                                Horrible   \n",
       "4      1.0  Nice concept, but kind of noisy. Safety concerns, too.   \n",
       "\n",
       "   unixReviewTime   reviewTime  \n",
       "0      1231632000  01 11, 2009  \n",
       "1      1386547200   12 9, 2013  \n",
       "2      1176768000  04 17, 2007  \n",
       "3      1338595200   06 2, 2012  \n",
       "4      1317340800  09 30, 2011  "
      ]
     },
     "execution_count": 3,
     "metadata": {},
     "output_type": "execute_result"
    }
   ],
   "source": [
    "reviews.head()\n"
   ]
  },
  {
   "cell_type": "code",
   "execution_count": 4,
   "id": "cf1a3380",
   "metadata": {},
   "outputs": [],
   "source": [
    "from nltk.tokenize import TreebankWordTokenizer\n",
    "from string import punctuation\n",
    "import string"
   ]
  },
  {
   "cell_type": "code",
   "execution_count": 5,
   "id": "b9738966",
   "metadata": {},
   "outputs": [],
   "source": [
    "tb_tokenizer = TreebankWordTokenizer()\n"
   ]
  },
  {
   "cell_type": "code",
   "execution_count": 6,
   "id": "50903030",
   "metadata": {},
   "outputs": [],
   "source": [
    "#remove punctuation->remove extra spaces->turn to lower case\n",
    "\n",
    "reviews[\"rev_text_lower\"] = reviews['reviewText'].apply(lambda rev: str(rev)\\\n",
    "                                                        .translate(str.maketrans('', '', punctuation))\\\n",
    "                                                        .replace(\"<br />\", \" \")\\\n",
    "                                                        .lower())"
   ]
  },
  {
   "cell_type": "code",
   "execution_count": 7,
   "id": "b0766c77",
   "metadata": {
    "scrolled": true
   },
   "outputs": [
    {
     "data": {
      "text/html": [
       "<div>\n",
       "<style scoped>\n",
       "    .dataframe tbody tr th:only-of-type {\n",
       "        vertical-align: middle;\n",
       "    }\n",
       "\n",
       "    .dataframe tbody tr th {\n",
       "        vertical-align: top;\n",
       "    }\n",
       "\n",
       "    .dataframe thead th {\n",
       "        text-align: right;\n",
       "    }\n",
       "</style>\n",
       "<table border=\"1\" class=\"dataframe\">\n",
       "  <thead>\n",
       "    <tr style=\"text-align: right;\">\n",
       "      <th></th>\n",
       "      <th>reviewText</th>\n",
       "      <th>rev_text_lower</th>\n",
       "    </tr>\n",
       "  </thead>\n",
       "  <tbody>\n",
       "    <tr>\n",
       "      <th>1025</th>\n",
       "      <td>I bought 2 of these because of the great reviews.  First off, the only way to install them is a big strip of tape on the back that glues it to the wall.  That was okay with me, since I didn't need to screw them into the wall.But I made a mistake after I installed the first one - I watered down a liquid soap and filled the thing TO THE TOP because I'd studied out the whole \"make your own foam\" thing &amp; thought it would work. After I put it in, it not only didn't \"foam,\" it dripped. I dug the little paper out of the box and read the very small print &amp; it said it wouldn't work for foam. Okay. I stuck a little bowl under it &amp; we scoop it out of the bowl.Then I stuck the 2nd one next to our kitchen sink &amp; filled it with liquid dish soap.  It drips.  So we have a sponge laying under it.I'm really disappointed.  I know #1 was my fault, but #2 should work.  As soon as they're empty, I'm gonna pry them off &amp; scrape the inevitable tape off of the wall.</td>\n",
       "      <td>i bought 2 of these because of the great reviews  first off the only way to install them is a big strip of tape on the back that glues it to the wall  that was okay with me since i didnt need to screw them into the wallbut i made a mistake after i installed the first one  i watered down a liquid soap and filled the thing to the top because id studied out the whole make your own foam thing  thought it would work after i put it in it not only didnt foam it dripped i dug the little paper out of the box and read the very small print  it said it wouldnt work for foam okay i stuck a little bowl under it  we scoop it out of the bowlthen i stuck the 2nd one next to our kitchen sink  filled it with liquid dish soap  it drips  so we have a sponge laying under itim really disappointed  i know 1 was my fault but 2 should work  as soon as theyre empty im gonna pry them off  scrape the inevitable tape off of the wall</td>\n",
       "    </tr>\n",
       "    <tr>\n",
       "      <th>1691</th>\n",
       "      <td>I wanted to like this drainer.  I'm trying to like this drainer.  But truth be told, I just don't.  It is awkward and I find it difficult to arrange my odd shaped things in this.  I hand wash all my dishes, so I have lots everyday, and I really wanted to find a drainer that would accommodate large loads of varying shapes and sizes of dishes, etc... I will use it until I find a better replacement.</td>\n",
       "      <td>i wanted to like this drainer  im trying to like this drainer  but truth be told i just dont  it is awkward and i find it difficult to arrange my odd shaped things in this  i hand wash all my dishes so i have lots everyday and i really wanted to find a drainer that would accommodate large loads of varying shapes and sizes of dishes etc i will use it until i find a better replacement</td>\n",
       "    </tr>\n",
       "  </tbody>\n",
       "</table>\n",
       "</div>"
      ],
      "text/plain": [
       "                                                                                                                                                                                                                                                                                                                                                                                                                                                                                                                                                                                                                                                                                                                                                                                                                                                                                                                                                                                       reviewText  \\\n",
       "1025  I bought 2 of these because of the great reviews.  First off, the only way to install them is a big strip of tape on the back that glues it to the wall.  That was okay with me, since I didn't need to screw them into the wall.But I made a mistake after I installed the first one - I watered down a liquid soap and filled the thing TO THE TOP because I'd studied out the whole \"make your own foam\" thing & thought it would work. After I put it in, it not only didn't \"foam,\" it dripped. I dug the little paper out of the box and read the very small print & it said it wouldn't work for foam. Okay. I stuck a little bowl under it & we scoop it out of the bowl.Then I stuck the 2nd one next to our kitchen sink & filled it with liquid dish soap.  It drips.  So we have a sponge laying under it.I'm really disappointed.  I know #1 was my fault, but #2 should work.  As soon as they're empty, I'm gonna pry them off & scrape the inevitable tape off of the wall.   \n",
       "1691                                                                                                                                                                                                                                                                                                                                                                                                                                                                                                                                                                              I wanted to like this drainer.  I'm trying to like this drainer.  But truth be told, I just don't.  It is awkward and I find it difficult to arrange my odd shaped things in this.  I hand wash all my dishes, so I have lots everyday, and I really wanted to find a drainer that would accommodate large loads of varying shapes and sizes of dishes, etc... I will use it until I find a better replacement.   \n",
       "\n",
       "                                                                                                                                                                                                                                                                                                                                                                                                                                                                                                                                                                                                                                                                                                                                                                                                                                                                                                                                            rev_text_lower  \n",
       "1025  i bought 2 of these because of the great reviews  first off the only way to install them is a big strip of tape on the back that glues it to the wall  that was okay with me since i didnt need to screw them into the wallbut i made a mistake after i installed the first one  i watered down a liquid soap and filled the thing to the top because id studied out the whole make your own foam thing  thought it would work after i put it in it not only didnt foam it dripped i dug the little paper out of the box and read the very small print  it said it wouldnt work for foam okay i stuck a little bowl under it  we scoop it out of the bowlthen i stuck the 2nd one next to our kitchen sink  filled it with liquid dish soap  it drips  so we have a sponge laying under itim really disappointed  i know 1 was my fault but 2 should work  as soon as theyre empty im gonna pry them off  scrape the inevitable tape off of the wall  \n",
       "1691                                                                                                                                                                                                                                                                                                                                                                                                                                                                                                                                                     i wanted to like this drainer  im trying to like this drainer  but truth be told i just dont  it is awkward and i find it difficult to arrange my odd shaped things in this  i hand wash all my dishes so i have lots everyday and i really wanted to find a drainer that would accommodate large loads of varying shapes and sizes of dishes etc i will use it until i find a better replacement  "
      ]
     },
     "execution_count": 7,
     "metadata": {},
     "output_type": "execute_result"
    }
   ],
   "source": [
    "reviews[['reviewText','rev_text_lower']].sample(2)\n"
   ]
  },
  {
   "cell_type": "code",
   "execution_count": 8,
   "id": "5c0db3a7",
   "metadata": {},
   "outputs": [],
   "source": [
    "reviews[\"tb_tokens\"] = reviews['rev_text_lower'].apply(lambda rev: tb_tokenizer.tokenize(str(rev)))\n"
   ]
  },
  {
   "cell_type": "code",
   "execution_count": 9,
   "id": "11cb7b0f",
   "metadata": {},
   "outputs": [],
   "source": [
    "#treebank tokenize"
   ]
  },
  {
   "cell_type": "code",
   "execution_count": 10,
   "id": "26d0716f",
   "metadata": {},
   "outputs": [
    {
     "data": {
      "text/plain": [
       "0                                                                                                                                                                                                                                                                                                                                                                                                                              [i, purchased, this, filter, with, my, keurig, coffee, maker, have, not, used, it, and, probable, wont, for, the, cost, of, the, keurig, coffee, maker, which, is, a, great, coffee, maker, this, filter, should, come, with, it]\n",
       "1                                                                                                                                                                                                                                                                                                                                                                                                                                                                                                         [floats, even, if, im, on, it, it, tries, to, float, and, is, impossible, to, actually, lie, on, it, comfortably, threw, it, out, pretty, quick, 6260]\n",
       "2                                                                                                                                                                                                [finally, when, it, actually, was, over, a, year, since, i, had, received, the, coffeemaker, when, i, called, to, check, on, the, status, of, my, warranty, claim, they, said, your, warranty, has, expired, youve, had, this, coffeemaker, over, one, year, there, is, nothing, we, can, do, i, highly, recommend, you, find, a, coffeemaker, from, a, manufacturer, that, stands, behind, their, product, i, have, a, cuisinart, now, and, it, is, wonderful]\n",
       "3            [like, others, have, said, these, burnished, beaters, can, never, be, washed, in, the, dishwasher, i, had, no, trouble, soaking, mine, in, the, sink, but, one, trip, through, the, dw, was, all, it, took, to, ruin, it, the, really, icky, part, is, i, used, the, beater, once, before, noticing, that, not, only, did, it, not, shine, but, also, it, was, coated, with, aluminum, powder, yuuuuck, unless, you, are, the, kind, of, person, who, cooks, and, immediately, cleans, up, by, hand, get, the, coated, kind, because, ka, no, longer, makes, the, stainless, beaters, this, is, a, good, example, of, the, sad, deterioration, ...]\n",
       "4       [the, concept, of, the, ambia, ach120, portable, two, zone, ceramic, heater, is, ingenious, a, dualmodule, heater, where, one, of, the, modules, detaches, and, can, be, moved, up, to, 6, feet, away, from, the, base, unit, what, a, great, idea, the, heater, also, generates, a, decent, amount, of, heat, but, the, big, problem, i, have, with, it, is, the, noise, it, makes, the, fan, itself, is, pretty, noisy, and, because, it, has, a, thermostat, that, cycles, the, unit, onoff, in, order, to, maintain, a, desired, temperature, the, unit, goes, onoff, quite, frequently, to, make, matters, worse, its, not, a, gradual, onoff, ...]\n",
       "                                                                                                                                                                                                                                                                                                                                  ...                                                                                                                                                                                                                                                                                                                           \n",
       "4495                                                                                                                                                                                                                                                                                                                                                                                                                                                                            [it, does, exactly, what, it, is, advertised, to, do, i, appreciate, that, i, can, select, thin, delistyle, slices, with, this, machine, buy, the, nonserrated, blade, as, well]\n",
       "4496                                                                                                                                                                                                                                                                                                                                                                                                                                                                                                                     [i, have, used, this, mixer, quite, a, bit, and, have, never, had, any, issues, with, it, it, works, as, expected, every, time, needed]\n",
       "4497                                                                                                                                                                                                                                                                                                                                                                                                                                                                                [these, table, cloth, clamps, are, superior, to, many, i, have, tried, they, hold, even, in, the, wind, others, have, bend, or, broken, very, pleased, with, this, purchase]\n",
       "4498                                                                                                                                                                                                                                                                                                                          [ive, been, slowly, building, my, collection, of, shun, classic, knives, this, one, was, a, great, addition, keep, in, mind, that, these, are, 934, knives, so, youll, need, a, deep, wooden, knife, block, if, youre, not, storing, them, in, a, drawer, etc, the, shun, knife, block, also, available, on, amazon, works, great]\n",
       "4499                                                                                                                                                                                                                                                                 [theres, a, cap, on, the, bottom, of, the, grinder, that, comes, off, to, serve, as, a, funnel, to, refill, the, grinder, it, also, makes, a, handy, container, if, you, want, to, grind, up, about, a, tablespoon, or, so, of, something, and, throw, it, into, a, dishits, the, perfect, size, for, in, the, kitchen, or, on, the, table, and, grinds, to, a, perfect, mediumfine, grain]\n",
       "Name: tb_tokens, Length: 4500, dtype: object"
      ]
     },
     "execution_count": 10,
     "metadata": {},
     "output_type": "execute_result"
    }
   ],
   "source": [
    "reviews[\"tb_tokens\"]"
   ]
  },
  {
   "cell_type": "code",
   "execution_count": 11,
   "id": "db3c0253",
   "metadata": {},
   "outputs": [],
   "source": [
    "pd.set_option('display.max_colwidth', None)\n"
   ]
  },
  {
   "cell_type": "markdown",
   "id": "fcefdc6e",
   "metadata": {},
   "source": []
  },
  {
   "cell_type": "code",
   "execution_count": 12,
   "id": "fc4972e5",
   "metadata": {},
   "outputs": [],
   "source": [
    "#casual tokenize"
   ]
  },
  {
   "cell_type": "code",
   "execution_count": 13,
   "id": "eeff117a",
   "metadata": {},
   "outputs": [],
   "source": [
    "from nltk.tokenize.casual import casual_tokenize\n"
   ]
  },
  {
   "cell_type": "code",
   "execution_count": 14,
   "id": "3635d19c",
   "metadata": {},
   "outputs": [],
   "source": [
    "reviews['casual_tokens'] = reviews['rev_text_lower'].apply(lambda rev: casual_tokenize(str(rev)))\n"
   ]
  },
  {
   "cell_type": "code",
   "execution_count": 15,
   "id": "df952eb9",
   "metadata": {
    "scrolled": true
   },
   "outputs": [
    {
     "data": {
      "text/plain": [
       "0                                                                                                                                                                                                                                                                                                                                                                                                                         [i, purchased, this, filter, with, my, keurig, coffee, maker, have, not, used, it, and, probable, wont, for, the, cost, of, the, keurig, coffee, maker, which, is, a, great, coffee, maker, this, filter, should, come, with, it]\n",
       "1                                                                                                                                                                                                                                                                                                                                                                                                                                                                                                    [floats, even, if, im, on, it, it, tries, to, float, and, is, impossible, to, actually, lie, on, it, comfortably, threw, it, out, pretty, quick, 6260]\n",
       "2                                                                                                                                                                                           [finally, when, it, actually, was, over, a, year, since, i, had, received, the, coffeemaker, when, i, called, to, check, on, the, status, of, my, warranty, claim, they, said, your, warranty, has, expired, youve, had, this, coffeemaker, over, one, year, there, is, nothing, we, can, do, i, highly, recommend, you, find, a, coffeemaker, from, a, manufacturer, that, stands, behind, their, product, i, have, a, cuisinart, now, and, it, is, wonderful]\n",
       "3       [like, others, have, said, these, burnished, beaters, can, never, be, washed, in, the, dishwasher, i, had, no, trouble, soaking, mine, in, the, sink, but, one, trip, through, the, dw, was, all, it, took, to, ruin, it, the, really, icky, part, is, i, used, the, beater, once, before, noticing, that, not, only, did, it, not, shine, but, also, it, was, coated, with, aluminum, powder, yuuuuck, unless, you, are, the, kind, of, person, who, cooks, and, immediately, cleans, up, by, hand, get, the, coated, kind, because, ka, no, longer, makes, the, stainless, beaters, this, is, a, good, example, of, the, sad, deterioration, ...]\n",
       "4       [the, concept, of, the, ambia, ach, 120, portable, two, zone, ceramic, heater, is, ingenious, a, dualmodule, heater, where, one, of, the, modules, detaches, and, can, be, moved, up, to, 6, feet, away, from, the, base, unit, what, a, great, idea, the, heater, also, generates, a, decent, amount, of, heat, but, the, big, problem, i, have, with, it, is, the, noise, it, makes, the, fan, itself, is, pretty, noisy, and, because, it, has, a, thermostat, that, cycles, the, unit, onoff, in, order, to, maintain, a, desired, temperature, the, unit, goes, onoff, quite, frequently, to, make, matters, worse, its, not, a, gradual, ...]\n",
       "                                                                                                                                                                                                                                                                                                                               ...                                                                                                                                                                                                                                                                                                                         \n",
       "4495                                                                                                                                                                                                                                                                                                                                                                                                                                                                       [it, does, exactly, what, it, is, advertised, to, do, i, appreciate, that, i, can, select, thin, delistyle, slices, with, this, machine, buy, the, nonserrated, blade, as, well]\n",
       "4496                                                                                                                                                                                                                                                                                                                                                                                                                                                                                                                [i, have, used, this, mixer, quite, a, bit, and, have, never, had, any, issues, with, it, it, works, as, expected, every, time, needed]\n",
       "4497                                                                                                                                                                                                                                                                                                                                                                                                                                                                           [these, table, cloth, clamps, are, superior, to, many, i, have, tried, they, hold, even, in, the, wind, others, have, bend, or, broken, very, pleased, with, this, purchase]\n",
       "4498                                                                                                                                                                                                                                                                                                                     [ive, been, slowly, building, my, collection, of, shun, classic, knives, this, one, was, a, great, addition, keep, in, mind, that, these, are, 934, knives, so, youll, need, a, deep, wooden, knife, block, if, youre, not, storing, them, in, a, drawer, etc, the, shun, knife, block, also, available, on, amazon, works, great]\n",
       "4499                                                                                                                                                                                                                                                            [theres, a, cap, on, the, bottom, of, the, grinder, that, comes, off, to, serve, as, a, funnel, to, refill, the, grinder, it, also, makes, a, handy, container, if, you, want, to, grind, up, about, a, tablespoon, or, so, of, something, and, throw, it, into, a, dishits, the, perfect, size, for, in, the, kitchen, or, on, the, table, and, grinds, to, a, perfect, mediumfine, grain]\n",
       "Name: casual_tokens, Length: 4500, dtype: object"
      ]
     },
     "execution_count": 15,
     "metadata": {},
     "output_type": "execute_result"
    }
   ],
   "source": [
    "reviews['casual_tokens']"
   ]
  },
  {
   "cell_type": "code",
   "execution_count": 16,
   "id": "12a83c08",
   "metadata": {},
   "outputs": [
    {
     "data": {
      "text/html": [
       "<div>\n",
       "<style scoped>\n",
       "    .dataframe tbody tr th:only-of-type {\n",
       "        vertical-align: middle;\n",
       "    }\n",
       "\n",
       "    .dataframe tbody tr th {\n",
       "        vertical-align: top;\n",
       "    }\n",
       "\n",
       "    .dataframe thead th {\n",
       "        text-align: right;\n",
       "    }\n",
       "</style>\n",
       "<table border=\"1\" class=\"dataframe\">\n",
       "  <thead>\n",
       "    <tr style=\"text-align: right;\">\n",
       "      <th></th>\n",
       "      <th>casual_tokens</th>\n",
       "      <th>tb_tokens</th>\n",
       "    </tr>\n",
       "  </thead>\n",
       "  <tbody>\n",
       "    <tr>\n",
       "      <th>471</th>\n",
       "      <td>[my, husband, and, i, tried, it, on, our, king, size, bed, andathe, newness, scent, never, went, away, after, a, few, weeksit, was, strongbit, felt, like, we, were, sleeping, in, a, hammock, and, we, are, both, small, and, lightcit, made, the, bed, feel, too, spongyguess, it, depends, on, what, youre, used, to, sleeping, on, as, to, whether, or, not, you, would, like, the, feel, of, this, but, as, for, myself, i, would, rather, sleep, on, the, floor, than, to, sleep, on, one, of, these, again]</td>\n",
       "      <td>[my, husband, and, i, tried, it, on, our, king, size, bed, andathe, newness, scent, never, went, away, after, a, few, weeksit, was, strongbit, felt, like, we, were, sleeping, in, a, hammock, and, we, are, both, small, and, lightcit, made, the, bed, feel, too, spongyguess, it, depends, on, what, youre, used, to, sleeping, on, as, to, whether, or, not, you, would, like, the, feel, of, this, but, as, for, myself, i, would, rather, sleep, on, the, floor, than, to, sleep, on, one, of, these, again]</td>\n",
       "    </tr>\n",
       "    <tr>\n",
       "      <th>3313</th>\n",
       "      <td>[this, was, just, what, i, needed, i, have, an, older, unit, i, restored, and, living, in, the, desert, i, had, no, way, to, no, if, the, gauge, was, correct, or, not, with, this, my, pressure, is, guaranteed, to, be, the, 10, pounds, it, actually, says, on, the, instructions, that, if, you, have, a, dial, gauge, not, to, rely, on, the, gauge, and, trust, the, weight, good, stuff]</td>\n",
       "      <td>[this, was, just, what, i, needed, i, have, an, older, unit, i, restored, and, living, in, the, desert, i, had, no, way, to, no, if, the, gauge, was, correct, or, not, with, this, my, pressure, is, guaranteed, to, be, the, 10, pounds, it, actually, says, on, the, instructions, that, if, you, have, a, dial, gauge, not, to, rely, on, the, gauge, and, trust, the, weight, good, stuff]</td>\n",
       "    </tr>\n",
       "    <tr>\n",
       "      <th>2439</th>\n",
       "      <td>[this, pan, is, moderately, successful, in, crisping, food, in, a, mw, it, removes, the, slimy, surface, often, found, on, mwed, food, but, it, also, toughens, the, food, my, main, complaint, is, the, odor, the, pan, gives, off, during, cooking, i, believe, it, is, coming, from, the, synthetic, gasket, found, just, under, the, upper, pan, lipok, i, have, now, used, this, pan, for, a, while, and, can, up, my, recommendation, to, a, four, star, the, smell, is, now, gone, and, once, i, determined, the, amount, of, time, needed, for, cooking, the, food, is, much, better, i, can, take, out, a, batch, ...]</td>\n",
       "      <td>[this, pan, is, moderately, successful, in, crisping, food, in, a, mw, it, removes, the, slimy, surface, often, found, on, mwed, food, but, it, also, toughens, the, food, my, main, complaint, is, the, odor, the, pan, gives, off, during, cooking, i, believe, it, is, coming, from, the, synthetic, gasket, found, just, under, the, upper, pan, lipok, i, have, now, used, this, pan, for, a, while, and, can, up, my, recommendation, to, a, four, star, the, smell, is, now, gone, and, once, i, determined, the, amount, of, time, needed, for, cooking, the, food, is, much, better, i, can, take, out, a, batch, ...]</td>\n",
       "    </tr>\n",
       "  </tbody>\n",
       "</table>\n",
       "</div>"
      ],
      "text/plain": [
       "                                                                                                                                                                                                                                                                                                                                                                                                                                                                                                                                                                                                                        casual_tokens  \\\n",
       "471                                                                                                                [my, husband, and, i, tried, it, on, our, king, size, bed, andathe, newness, scent, never, went, away, after, a, few, weeksit, was, strongbit, felt, like, we, were, sleeping, in, a, hammock, and, we, are, both, small, and, lightcit, made, the, bed, feel, too, spongyguess, it, depends, on, what, youre, used, to, sleeping, on, as, to, whether, or, not, you, would, like, the, feel, of, this, but, as, for, myself, i, would, rather, sleep, on, the, floor, than, to, sleep, on, one, of, these, again]   \n",
       "3313                                                                                                                                                                                                                                  [this, was, just, what, i, needed, i, have, an, older, unit, i, restored, and, living, in, the, desert, i, had, no, way, to, no, if, the, gauge, was, correct, or, not, with, this, my, pressure, is, guaranteed, to, be, the, 10, pounds, it, actually, says, on, the, instructions, that, if, you, have, a, dial, gauge, not, to, rely, on, the, gauge, and, trust, the, weight, good, stuff]   \n",
       "2439  [this, pan, is, moderately, successful, in, crisping, food, in, a, mw, it, removes, the, slimy, surface, often, found, on, mwed, food, but, it, also, toughens, the, food, my, main, complaint, is, the, odor, the, pan, gives, off, during, cooking, i, believe, it, is, coming, from, the, synthetic, gasket, found, just, under, the, upper, pan, lipok, i, have, now, used, this, pan, for, a, while, and, can, up, my, recommendation, to, a, four, star, the, smell, is, now, gone, and, once, i, determined, the, amount, of, time, needed, for, cooking, the, food, is, much, better, i, can, take, out, a, batch, ...]   \n",
       "\n",
       "                                                                                                                                                                                                                                                                                                                                                                                                                                                                                                                                                                                                                            tb_tokens  \n",
       "471                                                                                                                [my, husband, and, i, tried, it, on, our, king, size, bed, andathe, newness, scent, never, went, away, after, a, few, weeksit, was, strongbit, felt, like, we, were, sleeping, in, a, hammock, and, we, are, both, small, and, lightcit, made, the, bed, feel, too, spongyguess, it, depends, on, what, youre, used, to, sleeping, on, as, to, whether, or, not, you, would, like, the, feel, of, this, but, as, for, myself, i, would, rather, sleep, on, the, floor, than, to, sleep, on, one, of, these, again]  \n",
       "3313                                                                                                                                                                                                                                  [this, was, just, what, i, needed, i, have, an, older, unit, i, restored, and, living, in, the, desert, i, had, no, way, to, no, if, the, gauge, was, correct, or, not, with, this, my, pressure, is, guaranteed, to, be, the, 10, pounds, it, actually, says, on, the, instructions, that, if, you, have, a, dial, gauge, not, to, rely, on, the, gauge, and, trust, the, weight, good, stuff]  \n",
       "2439  [this, pan, is, moderately, successful, in, crisping, food, in, a, mw, it, removes, the, slimy, surface, often, found, on, mwed, food, but, it, also, toughens, the, food, my, main, complaint, is, the, odor, the, pan, gives, off, during, cooking, i, believe, it, is, coming, from, the, synthetic, gasket, found, just, under, the, upper, pan, lipok, i, have, now, used, this, pan, for, a, while, and, can, up, my, recommendation, to, a, four, star, the, smell, is, now, gone, and, once, i, determined, the, amount, of, time, needed, for, cooking, the, food, is, much, better, i, can, take, out, a, batch, ...]  "
      ]
     },
     "execution_count": 16,
     "metadata": {},
     "output_type": "execute_result"
    }
   ],
   "source": [
    "reviews[['casual_tokens','tb_tokens']].sample(3)"
   ]
  },
  {
   "cell_type": "code",
   "execution_count": 17,
   "id": "02cb38fa",
   "metadata": {},
   "outputs": [],
   "source": [
    "from nltk.stem.porter import PorterStemmer\n"
   ]
  },
  {
   "cell_type": "code",
   "execution_count": 18,
   "id": "e24d7b01",
   "metadata": {},
   "outputs": [],
   "source": [
    "stemmer = PorterStemmer()\n"
   ]
  },
  {
   "cell_type": "code",
   "execution_count": 19,
   "id": "554755d6",
   "metadata": {},
   "outputs": [],
   "source": [
    "reviews['tokens_stemmed'] = reviews['tb_tokens'].apply(lambda words: [stemmer.stem(w) for w in words])\n"
   ]
  },
  {
   "cell_type": "code",
   "execution_count": 20,
   "id": "dc18b823",
   "metadata": {},
   "outputs": [
    {
     "data": {
      "text/html": [
       "<div>\n",
       "<style scoped>\n",
       "    .dataframe tbody tr th:only-of-type {\n",
       "        vertical-align: middle;\n",
       "    }\n",
       "\n",
       "    .dataframe tbody tr th {\n",
       "        vertical-align: top;\n",
       "    }\n",
       "\n",
       "    .dataframe thead th {\n",
       "        text-align: right;\n",
       "    }\n",
       "</style>\n",
       "<table border=\"1\" class=\"dataframe\">\n",
       "  <thead>\n",
       "    <tr style=\"text-align: right;\">\n",
       "      <th></th>\n",
       "      <th>tb_tokens</th>\n",
       "      <th>tokens_stemmed</th>\n",
       "    </tr>\n",
       "  </thead>\n",
       "  <tbody>\n",
       "    <tr>\n",
       "      <th>4330</th>\n",
       "      <td>[love, these, towels, for, drying, dishes, and, glasses, mopping, up, the, kitchen, counter, and, when, they, get, really, tired, i, use, them, to, clean, the, windows, or, general, cleaning, at, home, car, and, boat, good, price, too]</td>\n",
       "      <td>[love, these, towel, for, dri, dish, and, glass, mop, up, the, kitchen, counter, and, when, they, get, realli, tire, i, use, them, to, clean, the, window, or, gener, clean, at, home, car, and, boat, good, price, too]</td>\n",
       "    </tr>\n",
       "    <tr>\n",
       "      <th>1102</th>\n",
       "      <td>[like, other, reviewers, i, tossed, out, our, old, swingaway, opener, after, installing, the, new, one, boy, am, i, sorry, no, matter, how, hard, we, try, the, new, one, will, not, cut, around, a, can, without, several, tries, we, end, up, with, lots, of, sharp, cutting, barbs, and, the, lid, is, still, on, this, was, never, a, problem, with, the, old, one, do, not, be, tricked, into, getting, this, one]</td>\n",
       "      <td>[like, other, review, i, toss, out, our, old, swingaway, open, after, instal, the, new, one, boy, am, i, sorri, no, matter, how, hard, we, tri, the, new, one, will, not, cut, around, a, can, without, sever, tri, we, end, up, with, lot, of, sharp, cut, barb, and, the, lid, is, still, on, thi, wa, never, a, problem, with, the, old, one, do, not, be, trick, into, get, thi, one]</td>\n",
       "    </tr>\n",
       "    <tr>\n",
       "      <th>447</th>\n",
       "      <td>[came, assembled, with, wire, preassembled, and, thus, obviously, it, was, broken, upon, arrival, one, end, that, has, a, nub, on, it, was, broken, and, the, two, spares, would, not, fit, whatsoever, the, marble, where, the, swing, are, is, bored, still, had, a, ton, of, residue, that, got, all, over, me, when, trying, to, resolve, what, a, pita, disappointed]</td>\n",
       "      <td>[came, assembl, with, wire, preassembl, and, thu, obvious, it, wa, broken, upon, arriv, one, end, that, ha, a, nub, on, it, wa, broken, and, the, two, spare, would, not, fit, whatsoev, the, marbl, where, the, swing, are, is, bore, still, had, a, ton, of, residu, that, got, all, over, me, when, tri, to, resolv, what, a, pita, disappoint]</td>\n",
       "    </tr>\n",
       "  </tbody>\n",
       "</table>\n",
       "</div>"
      ],
      "text/plain": [
       "                                                                                                                                                                                                                                                                                                                                                                                                                    tb_tokens  \\\n",
       "4330                                                                                                                                                                              [love, these, towels, for, drying, dishes, and, glasses, mopping, up, the, kitchen, counter, and, when, they, get, really, tired, i, use, them, to, clean, the, windows, or, general, cleaning, at, home, car, and, boat, good, price, too]   \n",
       "1102  [like, other, reviewers, i, tossed, out, our, old, swingaway, opener, after, installing, the, new, one, boy, am, i, sorry, no, matter, how, hard, we, try, the, new, one, will, not, cut, around, a, can, without, several, tries, we, end, up, with, lots, of, sharp, cutting, barbs, and, the, lid, is, still, on, this, was, never, a, problem, with, the, old, one, do, not, be, tricked, into, getting, this, one]   \n",
       "447                                                [came, assembled, with, wire, preassembled, and, thus, obviously, it, was, broken, upon, arrival, one, end, that, has, a, nub, on, it, was, broken, and, the, two, spares, would, not, fit, whatsoever, the, marble, where, the, swing, are, is, bored, still, had, a, ton, of, residue, that, got, all, over, me, when, trying, to, resolve, what, a, pita, disappointed]   \n",
       "\n",
       "                                                                                                                                                                                                                                                                                                                                                                                 tokens_stemmed  \n",
       "4330                                                                                                                                                                   [love, these, towel, for, dri, dish, and, glass, mop, up, the, kitchen, counter, and, when, they, get, realli, tire, i, use, them, to, clean, the, window, or, gener, clean, at, home, car, and, boat, good, price, too]  \n",
       "1102  [like, other, review, i, toss, out, our, old, swingaway, open, after, instal, the, new, one, boy, am, i, sorri, no, matter, how, hard, we, tri, the, new, one, will, not, cut, around, a, can, without, sever, tri, we, end, up, with, lot, of, sharp, cut, barb, and, the, lid, is, still, on, thi, wa, never, a, problem, with, the, old, one, do, not, be, trick, into, get, thi, one]  \n",
       "447                                          [came, assembl, with, wire, preassembl, and, thu, obvious, it, wa, broken, upon, arriv, one, end, that, ha, a, nub, on, it, wa, broken, and, the, two, spare, would, not, fit, whatsoev, the, marbl, where, the, swing, are, is, bore, still, had, a, ton, of, residu, that, got, all, over, me, when, tri, to, resolv, what, a, pita, disappoint]  "
      ]
     },
     "execution_count": 20,
     "metadata": {},
     "output_type": "execute_result"
    }
   ],
   "source": [
    "reviews[['tb_tokens','tokens_stemmed']].sample(3)\n"
   ]
  },
  {
   "cell_type": "code",
   "execution_count": 21,
   "id": "5374a5f5",
   "metadata": {},
   "outputs": [],
   "source": [
    "from nltk.stem import WordNetLemmatizer\n",
    "from nltk.corpus import wordnet as wn\n",
    "from nltk.corpus import sentiwordnet as swn\n",
    "from nltk import sent_tokenize, word_tokenize, pos_tag\n"
   ]
  },
  {
   "cell_type": "code",
   "execution_count": 22,
   "id": "569e07af",
   "metadata": {},
   "outputs": [],
   "source": [
    "def penn_to_wn(tag):\n",
    "    \"\"\"\n",
    "        Convert between the PennTreebank tags to simple Wordnet tags\n",
    "    \"\"\"\n",
    "    if tag.startswith('J'):\n",
    "        return wn.ADJ\n",
    "    elif tag.startswith('N'):\n",
    "        return wn.NOUN\n",
    "    elif tag.startswith('R'):\n",
    "        return wn.ADV\n",
    "    elif tag.startswith('V'):\n",
    "        return wn.VERB\n",
    "    return None"
   ]
  },
  {
   "cell_type": "code",
   "execution_count": 23,
   "id": "e48f1955",
   "metadata": {},
   "outputs": [],
   "source": [
    "lemmatizer = WordNetLemmatizer()\n",
    "def get_lemas(tokens):\n",
    "    lemmas = []\n",
    "    for token in tokens:\n",
    "        pos = penn_to_wn(pos_tag([token])[0][1])\n",
    "        if pos:\n",
    "            lemma = lemmatizer.lemmatize(token, pos)\n",
    "            if lemma:\n",
    "                lemmas.append(lemma)\n",
    "    return lemmas"
   ]
  },
  {
   "cell_type": "code",
   "execution_count": 24,
   "id": "97babc7e",
   "metadata": {},
   "outputs": [],
   "source": [
    "reviews['lemmas'] = reviews['tb_tokens'].apply(lambda tokens: get_lemas(tokens))\n"
   ]
  },
  {
   "cell_type": "code",
   "execution_count": 25,
   "id": "0457f468",
   "metadata": {},
   "outputs": [
    {
     "data": {
      "text/html": [
       "<div>\n",
       "<style scoped>\n",
       "    .dataframe tbody tr th:only-of-type {\n",
       "        vertical-align: middle;\n",
       "    }\n",
       "\n",
       "    .dataframe tbody tr th {\n",
       "        vertical-align: top;\n",
       "    }\n",
       "\n",
       "    .dataframe thead th {\n",
       "        text-align: right;\n",
       "    }\n",
       "</style>\n",
       "<table border=\"1\" class=\"dataframe\">\n",
       "  <thead>\n",
       "    <tr style=\"text-align: right;\">\n",
       "      <th></th>\n",
       "      <th>reviewText</th>\n",
       "      <th>tokens_stemmed</th>\n",
       "      <th>lemmas</th>\n",
       "    </tr>\n",
       "  </thead>\n",
       "  <tbody>\n",
       "    <tr>\n",
       "      <th>1009</th>\n",
       "      <td>It's a couple of small plastic sleeves that attached to the normal Kitchenaid food grinder attachment, but one of the sleeves arrived in two pieces.  It would have taken longer to return than it was worth, but it's one of those little items that cost more to haggle over than they'd cost to replace.</td>\n",
       "      <td>[it, a, coupl, of, small, plastic, sleev, that, attach, to, the, normal, kitchenaid, food, grinder, attach, but, one, of, the, sleev, arriv, in, two, piec, it, would, have, taken, longer, to, return, than, it, wa, worth, but, it, one, of, those, littl, item, that, cost, more, to, haggl, over, than, theyd, cost, to, replac]</td>\n",
       "      <td>[couple, small, plastic, sleeve, attach, normal, kitchenaid, food, grinder, attachment, sleeve, arrive, piece, have, take, longer, return, be, worth, little, item, cost, more, haggle, theyd, cost, replace]</td>\n",
       "    </tr>\n",
       "    <tr>\n",
       "      <th>3584</th>\n",
       "      <td>.I use this fan in the bedroom to move the air about. I really helps to keep my room cooler and I like the air movement that I can feel - I sleep better.</td>\n",
       "      <td>[i, use, thi, fan, in, the, bedroom, to, move, the, air, about, i, realli, help, to, keep, my, room, cooler, and, i, like, the, air, movement, that, i, can, feel, i, sleep, better]</td>\n",
       "      <td>[i, use, fan, bedroom, move, air, i, really, help, keep, room, cooler, i, air, movement, i, feel, i, sleep, well]</td>\n",
       "    </tr>\n",
       "  </tbody>\n",
       "</table>\n",
       "</div>"
      ],
      "text/plain": [
       "                                                                                                                                                                                                                                                                                                       reviewText  \\\n",
       "1009  It's a couple of small plastic sleeves that attached to the normal Kitchenaid food grinder attachment, but one of the sleeves arrived in two pieces.  It would have taken longer to return than it was worth, but it's one of those little items that cost more to haggle over than they'd cost to replace.   \n",
       "3584                                                                                                                                                    .I use this fan in the bedroom to move the air about. I really helps to keep my room cooler and I like the air movement that I can feel - I sleep better.   \n",
       "\n",
       "                                                                                                                                                                                                                                                                                                                            tokens_stemmed  \\\n",
       "1009  [it, a, coupl, of, small, plastic, sleev, that, attach, to, the, normal, kitchenaid, food, grinder, attach, but, one, of, the, sleev, arriv, in, two, piec, it, would, have, taken, longer, to, return, than, it, wa, worth, but, it, one, of, those, littl, item, that, cost, more, to, haggl, over, than, theyd, cost, to, replac]   \n",
       "3584                                                                                                                                                  [i, use, thi, fan, in, the, bedroom, to, move, the, air, about, i, realli, help, to, keep, my, room, cooler, and, i, like, the, air, movement, that, i, can, feel, i, sleep, better]   \n",
       "\n",
       "                                                                                                                                                                                                             lemmas  \n",
       "1009  [couple, small, plastic, sleeve, attach, normal, kitchenaid, food, grinder, attachment, sleeve, arrive, piece, have, take, longer, return, be, worth, little, item, cost, more, haggle, theyd, cost, replace]  \n",
       "3584                                                                                              [i, use, fan, bedroom, move, air, i, really, help, keep, room, cooler, i, air, movement, i, feel, i, sleep, well]  "
      ]
     },
     "execution_count": 25,
     "metadata": {},
     "output_type": "execute_result"
    }
   ],
   "source": [
    "reviews[['reviewText','tokens_stemmed','lemmas']].sample(2)\n"
   ]
  },
  {
   "cell_type": "code",
   "execution_count": 26,
   "id": "1fe690c4",
   "metadata": {},
   "outputs": [
    {
     "data": {
      "text/plain": [
       "0.75"
      ]
     },
     "execution_count": 26,
     "metadata": {},
     "output_type": "execute_result"
    }
   ],
   "source": [
    "swn.senti_synset(wn.synsets(\"WELL\", wn.ADJ)[0].name()).pos_score()\n"
   ]
  },
  {
   "cell_type": "code",
   "execution_count": 27,
   "id": "762ea95a",
   "metadata": {},
   "outputs": [],
   "source": [
    "def get_sentiment_score(tokens):\n",
    "    score = 0\n",
    "    tags = pos_tag(tokens)\n",
    "    \n",
    "    for word, tag in tags:\n",
    "        wn_tag = penn_to_wn(tag)\n",
    "        if not wn_tag:\n",
    "            continue\n",
    "        synsets = wn.synsets(word, pos=wn_tag)\n",
    "        if not synsets:\n",
    "            continue\n",
    "        \n",
    "        #most common set:\n",
    "        synset = synsets[0]\n",
    "        swn_synset = swn.senti_synset(synset.name())\n",
    "        \n",
    "        score += (swn_synset.pos_score() - swn_synset.neg_score())\n",
    "        \n",
    "    return score\n",
    "                    \n"
   ]
  },
  {
   "cell_type": "code",
   "execution_count": 28,
   "id": "c70f9e7b",
   "metadata": {},
   "outputs": [],
   "source": [
    "reviews['sentiment_score'] = reviews['lemmas'].apply(lambda tokens: get_sentiment_score(tokens))\n",
    "\n"
   ]
  },
  {
   "cell_type": "code",
   "execution_count": 29,
   "id": "5379e09f",
   "metadata": {},
   "outputs": [
    {
     "data": {
      "text/html": [
       "<div>\n",
       "<style scoped>\n",
       "    .dataframe tbody tr th:only-of-type {\n",
       "        vertical-align: middle;\n",
       "    }\n",
       "\n",
       "    .dataframe tbody tr th {\n",
       "        vertical-align: top;\n",
       "    }\n",
       "\n",
       "    .dataframe thead th {\n",
       "        text-align: right;\n",
       "    }\n",
       "</style>\n",
       "<table border=\"1\" class=\"dataframe\">\n",
       "  <thead>\n",
       "    <tr style=\"text-align: right;\">\n",
       "      <th></th>\n",
       "      <th>reviewText</th>\n",
       "      <th>lemmas</th>\n",
       "      <th>sentiment_score</th>\n",
       "    </tr>\n",
       "  </thead>\n",
       "  <tbody>\n",
       "    <tr>\n",
       "      <th>1715</th>\n",
       "      <td>Thin and not as firm as you would think with \"memory foam.\" this foam only has memory because it goes back into place. It's about as thin as an egg crate from Walmart. Very unsatisfied. I am probably going to return this one and get another brand with 2X the thickness AT LEAST.</td>\n",
       "      <td>[thin, not, firm, think, memory, foam, foam, only, have, memory, go, back, place, thin, egg, crate, walmart, very, unsatisfied, i, be, probably, go, return, get, brand, thickness, least]</td>\n",
       "      <td>-0.500</td>\n",
       "    </tr>\n",
       "    <tr>\n",
       "      <th>1700</th>\n",
       "      <td>Really not all that pleased with this, it's just very flimsy feeling. The glass is very thin, and the mug itself is huge - the picture with that one tea bag in it is totally misleading - you'd need 2-3 if you filled the water up that high. The silicone top feels like super thin, cheesy rubber - it's currently sitting in the back of my cabinet, haven't even bothered to use it it's just very impractical and I fear it would shatter in the dishwasher.</td>\n",
       "      <td>[really, not, pleased, just, very, flimsy, feel, glass, be, very, thin, mug, be, huge, picture, tea, bag, be, totally, mislead, youd, need, fill, water, up, high, silicone, top, feel, super, thin, cheesy, rubber, currently, sit, back, cabinet, havent, even, bother, use, just, very, impractical, i, fear, shatter, dishwasher]</td>\n",
       "      <td>-0.125</td>\n",
       "    </tr>\n",
       "    <tr>\n",
       "      <th>2743</th>\n",
       "      <td>These are good griddles.  I do not know of any waffle maker that makes them crisp.  First off, the waffles come out brown and slightly crisp.  I will be using the highest setting and a longer baking time, the next time and PLEASE use your best waffle recipe, not the one that came in the booklet.  Then if need be I will just pop them in the toaster and they will be great.  Will post a followup...</td>\n",
       "      <td>[be, good, griddle, i, do, not, know, waffle, maker, make, crisp, first, waffle, come, brown, slightly, crisp, i, be, use, high, set, longer, baking, time, next, time, please, use, best, waffle, recipe, not, come, booklet, then, need, be, i, just, pop, toaster, be, great, post, followup]</td>\n",
       "      <td>0.375</td>\n",
       "    </tr>\n",
       "    <tr>\n",
       "      <th>2902</th>\n",
       "      <td>This is a good product that definitely saves a little bit of money, but the coffee can sometimes be a bit hard to rinse out. Altogether, a good product.</td>\n",
       "      <td>[be, good, product, definitely, save, little, bit, money, coffee, sometimes, be, bit, hard, rinse, altogether, good, product]</td>\n",
       "      <td>1.250</td>\n",
       "    </tr>\n",
       "    <tr>\n",
       "      <th>3863</th>\n",
       "      <td>June 6, 2012 UpdateJust a quick note regarding this knife.  It has been two years and the Pinzon is my \"go to knife\" for most of the kitchen work I do.  It performs perfectly for slicing meats sandwich thin.  The blade has withstood many cuts and remains as sharp today as when originally opened.  I use the steel on it before I begin and after three or four swipes it is ready for whatever I hit it with.  Still a top quality blade for a super good price.At first glance I was underwhelmed but I was wrong by a long shot.  When I opened the meager package my expectations were less than normal.  The knife itself was minimal at best but that was before a closer inspection.  Having all the attributes of an American I did not read the instructions first.  There were none.  But, as it turns out, I needed none.  I checked the blade and handle for defects.  None.  I checked the blade's edge for sharpness.  It was dull or at least I thought so until I used it.After washing it off with sudsy soap (redundant?) and water, rinsing well and drying, I put it to the tests.  I started with a hot turkey breast.  Hot is more difficult to cut thin slices than cold.  This cut the breast with ease and the pieces were quite thin.  I subsequently cut the breast while it was cold and the slices were much thinner than all the other knives I have in my arsenal.  Can one have a knife in an arsenal?In between I cut veggies and they were a snap and completed with ease.  Try it, you'll like it.  Then came the beef.  Slicing a 4 pound rump roast was slick as cutting butter.  Really!  I especially like the thinness of the blade. Unlike many santoku blades this one does not have the little ridges (I know they have names but my memory fades me about the correct name) to assist with the cut material falling off.  Not so with the Kai.  No ridges.  I am glad because none was needed nor necessary.  The small curve at the front of the blade adds to the ability to control cutting whatever.Bottom Line:  Great knife at a great value.</td>\n",
       "      <td>[june, updatejust, quick, note, regard, knife, have, be, year, pinzon, be, go, knife, most, kitchen, work, i, do, performs, perfectly, slice, meat, sandwich, thin, blade, have, withstood, many, cut, remains, sharp, today, originally, open, i, use, steel, i, begin, swipe, be, ready, i, hit, still, top, quality, blade, super, good, priceat, first, glance, i, be, underwhelmed, i, be, wrong, long, shot, i, open, meager, package, expectation, be, less, normal, knife, be, minimal, best, be, closer, inspection, have, attribute, american, i, do, not, read, instruction, first, there, be, none, turn, i, need, none, i, checked, blade, handle, defect, none, i, checked, ...]</td>\n",
       "      <td>1.250</td>\n",
       "    </tr>\n",
       "  </tbody>\n",
       "</table>\n",
       "</div>"
      ],
      "text/plain": [
       "                                                                                                                                                                                                                                                                                                                                                                                                                                                                                                                                                                                                                                                                                                                                                                                                                                                                                                                                                                                                                                                                                                                                                                                                                                                                                                                                                                                                                                                                                                                                                                                                                                                                                                                                                                                                                                                                                                                                                                                                                                                                                                  reviewText  \\\n",
       "1715                                                                                                                                                                                                                                                                                                                                                                                                                                                                                                                                                                                                                                                                                                                                                                                                                                                                                                                                                                                                                                                                                                                                                                                                                                                                                                                                                                                                                                                                                                                                                                                                                                                                                                                                                                                                                  Thin and not as firm as you would think with \"memory foam.\" this foam only has memory because it goes back into place. It's about as thin as an egg crate from Walmart. Very unsatisfied. I am probably going to return this one and get another brand with 2X the thickness AT LEAST.   \n",
       "1700                                                                                                                                                                                                                                                                                                                                                                                                                                                                                                                                                                                                                                                                                                                                                                                                                                                                                                                                                                                                                                                                                                                                                                                                                                                                                                                                                                                                                                                                                                                                                                                                                                     Really not all that pleased with this, it's just very flimsy feeling. The glass is very thin, and the mug itself is huge - the picture with that one tea bag in it is totally misleading - you'd need 2-3 if you filled the water up that high. The silicone top feels like super thin, cheesy rubber - it's currently sitting in the back of my cabinet, haven't even bothered to use it it's just very impractical and I fear it would shatter in the dishwasher.   \n",
       "2743                                                                                                                                                                                                                                                                                                                                                                                                                                                                                                                                                                                                                                                                                                                                                                                                                                                                                                                                                                                                                                                                                                                                                                                                                                                                                                                                                                                                                                                                                                                                                                                                                                                                                          These are good griddles.  I do not know of any waffle maker that makes them crisp.  First off, the waffles come out brown and slightly crisp.  I will be using the highest setting and a longer baking time, the next time and PLEASE use your best waffle recipe, not the one that came in the booklet.  Then if need be I will just pop them in the toaster and they will be great.  Will post a followup...   \n",
       "2902                                                                                                                                                                                                                                                                                                                                                                                                                                                                                                                                                                                                                                                                                                                                                                                                                                                                                                                                                                                                                                                                                                                                                                                                                                                                                                                                                                                                                                                                                                                                                                                                                                                                                                                                                                                                                                                                                                                                                This is a good product that definitely saves a little bit of money, but the coffee can sometimes be a bit hard to rinse out. Altogether, a good product.   \n",
       "3863  June 6, 2012 UpdateJust a quick note regarding this knife.  It has been two years and the Pinzon is my \"go to knife\" for most of the kitchen work I do.  It performs perfectly for slicing meats sandwich thin.  The blade has withstood many cuts and remains as sharp today as when originally opened.  I use the steel on it before I begin and after three or four swipes it is ready for whatever I hit it with.  Still a top quality blade for a super good price.At first glance I was underwhelmed but I was wrong by a long shot.  When I opened the meager package my expectations were less than normal.  The knife itself was minimal at best but that was before a closer inspection.  Having all the attributes of an American I did not read the instructions first.  There were none.  But, as it turns out, I needed none.  I checked the blade and handle for defects.  None.  I checked the blade's edge for sharpness.  It was dull or at least I thought so until I used it.After washing it off with sudsy soap (redundant?) and water, rinsing well and drying, I put it to the tests.  I started with a hot turkey breast.  Hot is more difficult to cut thin slices than cold.  This cut the breast with ease and the pieces were quite thin.  I subsequently cut the breast while it was cold and the slices were much thinner than all the other knives I have in my arsenal.  Can one have a knife in an arsenal?In between I cut veggies and they were a snap and completed with ease.  Try it, you'll like it.  Then came the beef.  Slicing a 4 pound rump roast was slick as cutting butter.  Really!  I especially like the thinness of the blade. Unlike many santoku blades this one does not have the little ridges (I know they have names but my memory fades me about the correct name) to assist with the cut material falling off.  Not so with the Kai.  No ridges.  I am glad because none was needed nor necessary.  The small curve at the front of the blade adds to the ability to control cutting whatever.Bottom Line:  Great knife at a great value.   \n",
       "\n",
       "                                                                                                                                                                                                                                                                                                                                                                                                                                                                                                                                                                                                                                                                                              lemmas  \\\n",
       "1715                                                                                                                                                                                                                                                                                                                                                                                                                                                                                                      [thin, not, firm, think, memory, foam, foam, only, have, memory, go, back, place, thin, egg, crate, walmart, very, unsatisfied, i, be, probably, go, return, get, brand, thickness, least]   \n",
       "1700                                                                                                                                                                                                                                                                                                                                                           [really, not, pleased, just, very, flimsy, feel, glass, be, very, thin, mug, be, huge, picture, tea, bag, be, totally, mislead, youd, need, fill, water, up, high, silicone, top, feel, super, thin, cheesy, rubber, currently, sit, back, cabinet, havent, even, bother, use, just, very, impractical, i, fear, shatter, dishwasher]   \n",
       "2743                                                                                                                                                                                                                                                                                                                                                                                                [be, good, griddle, i, do, not, know, waffle, maker, make, crisp, first, waffle, come, brown, slightly, crisp, i, be, use, high, set, longer, baking, time, next, time, please, use, best, waffle, recipe, not, come, booklet, then, need, be, i, just, pop, toaster, be, great, post, followup]   \n",
       "2902                                                                                                                                                                                                                                                                                                                                                                                                                                                                                                                                                                   [be, good, product, definitely, save, little, bit, money, coffee, sometimes, be, bit, hard, rinse, altogether, good, product]   \n",
       "3863  [june, updatejust, quick, note, regard, knife, have, be, year, pinzon, be, go, knife, most, kitchen, work, i, do, performs, perfectly, slice, meat, sandwich, thin, blade, have, withstood, many, cut, remains, sharp, today, originally, open, i, use, steel, i, begin, swipe, be, ready, i, hit, still, top, quality, blade, super, good, priceat, first, glance, i, be, underwhelmed, i, be, wrong, long, shot, i, open, meager, package, expectation, be, less, normal, knife, be, minimal, best, be, closer, inspection, have, attribute, american, i, do, not, read, instruction, first, there, be, none, turn, i, need, none, i, checked, blade, handle, defect, none, i, checked, ...]   \n",
       "\n",
       "      sentiment_score  \n",
       "1715           -0.500  \n",
       "1700           -0.125  \n",
       "2743            0.375  \n",
       "2902            1.250  \n",
       "3863            1.250  "
      ]
     },
     "execution_count": 29,
     "metadata": {},
     "output_type": "execute_result"
    }
   ],
   "source": [
    "reviews[['reviewText','lemmas','sentiment_score']].sample(5)\n"
   ]
  },
  {
   "cell_type": "code",
   "execution_count": null,
   "id": "22503b6e",
   "metadata": {},
   "outputs": [],
   "source": []
  },
  {
   "cell_type": "code",
   "execution_count": 30,
   "id": "62b09f78",
   "metadata": {},
   "outputs": [
    {
     "data": {
      "image/png": "[encoded data removed]",
      "text/plain": [
       "<Figure size 1440x720 with 1 Axes>"
      ]
     },
     "metadata": {
      "needs_background": "light"
     },
     "output_type": "display_data"
    }
   ],
   "source": [
    "import matplotlib.pyplot as plt\n",
    "pd.set_option('display.max_columns', None)\n",
    "pd.set_option('display.max_colwidth', None)\n",
    "\n",
    "fig , ax = plt.subplots(nrows=1, ncols=1, figsize=(20,10))\n",
    "sns.histplot(x='sentiment_score', data=reviews.query(\"sentiment_score < 8 and sentiment_score > -8\"), ax=ax)\n",
    "plt.show()"
   ]
  },
  {
   "cell_type": "code",
   "execution_count": 31,
   "id": "3c49e26a",
   "metadata": {},
   "outputs": [],
   "source": [
    "reviews['sentiment'] = reviews['sentiment_score'].apply(lambda x: \"positive\" if x>1 else (\"negative\" if x<0.5 else \"neutral\"))\n"
   ]
  },
  {
   "cell_type": "code",
   "execution_count": 32,
   "id": "07a43175",
   "metadata": {},
   "outputs": [
    {
     "data": {
      "text/plain": [
       "negative    2090\n",
       "positive    1688\n",
       "neutral      722\n",
       "Name: sentiment, dtype: int64"
      ]
     },
     "execution_count": 32,
     "metadata": {},
     "output_type": "execute_result"
    }
   ],
   "source": [
    "reviews['sentiment'].value_counts(dropna=False)\n"
   ]
  },
  {
   "cell_type": "code",
   "execution_count": 33,
   "id": "6979c9e1",
   "metadata": {},
   "outputs": [
    {
     "data": {
      "text/plain": [
       "<matplotlib.axes._subplots.AxesSubplot at 0x7fa775721820>"
      ]
     },
     "execution_count": 33,
     "metadata": {},
     "output_type": "execute_result"
    },
    {
     "data": {
      "image/png": "[encoded data removed]",
      "text/plain": [
       "<Figure size 432x288 with 1 Axes>"
      ]
     },
     "metadata": {
      "needs_background": "light"
     },
     "output_type": "display_data"
    }
   ],
   "source": [
    "sns.countplot(x='overall', hue='sentiment' ,data = reviews)\n"
   ]
  },
  {
   "cell_type": "code",
   "execution_count": 34,
   "id": "4f7bf4ee",
   "metadata": {},
   "outputs": [
    {
     "data": {
      "text/plain": [
       "<matplotlib.axes._subplots.AxesSubplot at 0x7fa7757b6f40>"
      ]
     },
     "execution_count": 34,
     "metadata": {},
     "output_type": "execute_result"
    },
    {
     "data": {
      "image/png": "[encoded data removed]",
      "text/plain": [
       "<Figure size 432x288 with 1 Axes>"
      ]
     },
     "metadata": {
      "needs_background": "light"
     },
     "output_type": "display_data"
    }
   ],
   "source": [
    "sns.boxenplot(x='sentiment', y='overall', data = reviews)\n"
   ]
  },
  {
   "cell_type": "code",
   "execution_count": 35,
   "id": "9fcb3511",
   "metadata": {},
   "outputs": [
    {
     "data": {
      "image/png": "[encoded data removed]",
      "text/plain": [
       "<Figure size 864x504 with 1 Axes>"
      ]
     },
     "metadata": {
      "needs_background": "light"
     },
     "output_type": "display_data"
    }
   ],
   "source": [
    "fig, ax = plt.subplots(nrows=1, ncols=1, figsize = (12,7))\n",
    "sns.boxenplot(x='overall', y='sentiment_score', data = reviews, ax=ax)\n",
    "plt.show()"
   ]
  },
  {
   "cell_type": "code",
   "execution_count": 36,
   "id": "34a90bab",
   "metadata": {},
   "outputs": [],
   "source": [
    "reviews['true_sentiment'] = \\\n",
    "    reviews['overall'].apply(lambda x: \"positive\" if x>=4 else (\"neutral\" if x==3 else \"negative\"))"
   ]
  },
  {
   "cell_type": "code",
   "execution_count": 37,
   "id": "146ddbec",
   "metadata": {},
   "outputs": [],
   "source": [
    "y_pred, y_true = reviews['sentiment'].dropna().tolist(), reviews['true_sentiment'].dropna().tolist()\n"
   ]
  },
  {
   "cell_type": "code",
   "execution_count": 38,
   "id": "53b57f7a",
   "metadata": {},
   "outputs": [
    {
     "data": {
      "text/plain": [
       "(4500, 4500)"
      ]
     },
     "execution_count": 38,
     "metadata": {},
     "output_type": "execute_result"
    }
   ],
   "source": [
    "len(y_pred), len(y_true)\n"
   ]
  },
  {
   "cell_type": "code",
   "execution_count": 39,
   "id": "9fe39c4c",
   "metadata": {},
   "outputs": [],
   "source": [
    "from sklearn.metrics import confusion_matrix\n",
    "cm = confusion_matrix(y_true, y_pred)"
   ]
  },
  {
   "cell_type": "code",
   "execution_count": 40,
   "id": "df38d390",
   "metadata": {},
   "outputs": [
    {
     "data": {
      "image/png": "[encoded data removed]",
      "text/plain": [
       "<Figure size 576x432 with 2 Axes>"
      ]
     },
     "metadata": {
      "needs_background": "light"
     },
     "output_type": "display_data"
    }
   ],
   "source": [
    "fig , ax = plt.subplots(nrows=1, ncols=1, figsize=(8,6))\n",
    "sns.heatmap(cm, cmap='viridis_r', annot=True, fmt='d', square=True, ax=ax)\n",
    "ax.set_xlabel('Predicted')\n",
    "ax.set_ylabel('True');"
   ]
  },
  {
   "cell_type": "code",
   "execution_count": 41,
   "id": "b2ca30c9",
   "metadata": {},
   "outputs": [],
   "source": [
    "#NEGATIVE SENTIMENT ANALYSIS "
   ]
  },
  {
   "cell_type": "code",
   "execution_count": 42,
   "id": "25c82d84",
   "metadata": {},
   "outputs": [
    {
     "data": {
      "text/plain": [
       "0.5268888888888889"
      ]
     },
     "execution_count": 42,
     "metadata": {},
     "output_type": "execute_result"
    }
   ],
   "source": [
    "(1258+76+1037)/4500\n"
   ]
  },
  {
   "cell_type": "code",
   "execution_count": 87,
   "id": "bb316bb7",
   "metadata": {},
   "outputs": [],
   "source": [
    "tp, tn, fp, fn = 1258, 1037+76+181+374,272+470, 243+589\n"
   ]
  },
  {
   "cell_type": "code",
   "execution_count": 88,
   "id": "1a83309f",
   "metadata": {},
   "outputs": [],
   "source": [
    "neg_accuracy=(tp+tn)/(tp+fp+tn+fn)\n"
   ]
  },
  {
   "cell_type": "code",
   "execution_count": 89,
   "id": "6bae93ff",
   "metadata": {},
   "outputs": [],
   "source": [
    "recall = tp / (tp+fn)\n",
    "specifity = tn / (tn+fp)\n",
    "precision = tp/(tp+fp)\n",
    "f1 = (2*tp) / (2*tp + fp + fn)\n"
   ]
  },
  {
   "cell_type": "code",
   "execution_count": 90,
   "id": "ca063754",
   "metadata": {},
   "outputs": [
    {
     "name": "stdout",
     "output_type": "stream",
     "text": [
      "recall: 0.6019138755980862\n",
      "precission: 0.629\n",
      "f1 score: 0.615158924205379\n"
     ]
    }
   ],
   "source": [
    "print(\"recall: {}\\nprecission: {}\\nf1 score: {}\".format(recall, precision, f1))\n"
   ]
  },
  {
   "cell_type": "code",
   "execution_count": 91,
   "id": "8e76abec",
   "metadata": {},
   "outputs": [],
   "source": [
    "#POSITIVE SENTIMENT ANALYSIS"
   ]
  },
  {
   "cell_type": "code",
   "execution_count": 92,
   "id": "cd55e5a2",
   "metadata": {},
   "outputs": [],
   "source": [
    "tp, tn, fp, fn = 1037, 1258+272+243+76, 181+470, 589+374\n"
   ]
  },
  {
   "cell_type": "code",
   "execution_count": 93,
   "id": "4af93a99",
   "metadata": {},
   "outputs": [],
   "source": [
    "pos_accuracy=(tp+tn)/(tp+fp+tn+fn)\n"
   ]
  },
  {
   "cell_type": "code",
   "execution_count": 97,
   "id": "6026b259",
   "metadata": {},
   "outputs": [
    {
     "name": "stdout",
     "output_type": "stream",
     "text": [
      "0.6457777777777778\n"
     ]
    }
   ],
   "source": [
    "\n",
    "print((neg_accuracy+pos_accuracy)/2)"
   ]
  },
  {
   "cell_type": "code",
   "execution_count": 48,
   "id": "29e9b1c6",
   "metadata": {},
   "outputs": [],
   "source": [
    "recall = tp / (tp+fn)\n",
    "specifity = tn / (tn+fp)\n",
    "precision = tp/(tp+fp)\n",
    "f1 = (2*tp) / (2*tp + fp + fn)"
   ]
  },
  {
   "cell_type": "code",
   "execution_count": 49,
   "id": "190d9e56",
   "metadata": {},
   "outputs": [
    {
     "name": "stdout",
     "output_type": "stream",
     "text": [
      "recall: 0.5185\n",
      "precission: 0.6143364928909952\n",
      "f1 score: 0.5623644251626898\n"
     ]
    }
   ],
   "source": [
    "print(\"recall: {}\\nprecission: {}\\nf1 score: {}\".format(recall, precision, f1))\n"
   ]
  },
  {
   "cell_type": "code",
   "execution_count": 50,
   "id": "8ceee2a0",
   "metadata": {},
   "outputs": [],
   "source": [
    "import nltk\n",
    "from nltk.corpus import opinion_lexicon\n",
    "from nltk.tokenize import word_tokenize, sent_tokenize\n"
   ]
  },
  {
   "cell_type": "code",
   "execution_count": 51,
   "id": "69c1a820",
   "metadata": {},
   "outputs": [
    {
     "name": "stderr",
     "output_type": "stream",
     "text": [
      "[nltk_data] Downloading package opinion_lexicon to\n",
      "[nltk_data]     /Users/akankshaagrawal/nltk_data...\n",
      "[nltk_data]   Package opinion_lexicon is already up-to-date!\n"
     ]
    },
    {
     "data": {
      "text/plain": [
       "True"
      ]
     },
     "execution_count": 51,
     "metadata": {},
     "output_type": "execute_result"
    }
   ],
   "source": [
    "nltk.download(\"opinion_lexicon\")"
   ]
  },
  {
   "cell_type": "code",
   "execution_count": 52,
   "id": "0bb317d4",
   "metadata": {},
   "outputs": [],
   "source": [
    "pos_words = list(opinion_lexicon.positive())\n",
    "neg_words = list(opinion_lexicon.negative())"
   ]
  },
  {
   "cell_type": "code",
   "execution_count": 53,
   "id": "ec06c055",
   "metadata": {},
   "outputs": [
    {
     "data": {
      "text/plain": [
       "['a+',\n",
       " 'abound',\n",
       " 'abounds',\n",
       " 'abundance',\n",
       " 'abundant',\n",
       " 'accessable',\n",
       " 'accessible',\n",
       " 'acclaim',\n",
       " 'acclaimed',\n",
       " 'acclamation',\n",
       " 'accolade',\n",
       " 'accolades',\n",
       " 'accommodative',\n",
       " 'accomodative',\n",
       " 'accomplish',\n",
       " 'accomplished',\n",
       " 'accomplishment',\n",
       " 'accomplishments',\n",
       " 'accurate',\n",
       " 'accurately',\n",
       " 'achievable',\n",
       " 'achievement',\n",
       " 'achievements',\n",
       " 'achievible',\n",
       " 'acumen',\n",
       " 'adaptable',\n",
       " 'adaptive',\n",
       " 'adequate',\n",
       " 'adjustable',\n",
       " 'admirable',\n",
       " 'admirably',\n",
       " 'admiration',\n",
       " 'admire',\n",
       " 'admirer',\n",
       " 'admiring',\n",
       " 'admiringly',\n",
       " 'adorable',\n",
       " 'adore',\n",
       " 'adored',\n",
       " 'adorer',\n",
       " 'adoring',\n",
       " 'adoringly',\n",
       " 'adroit',\n",
       " 'adroitly',\n",
       " 'adulate',\n",
       " 'adulation',\n",
       " 'adulatory',\n",
       " 'advanced',\n",
       " 'advantage',\n",
       " 'advantageous',\n",
       " 'advantageously',\n",
       " 'advantages',\n",
       " 'adventuresome',\n",
       " 'adventurous',\n",
       " 'advocate',\n",
       " 'advocated',\n",
       " 'advocates',\n",
       " 'affability',\n",
       " 'affable',\n",
       " 'affably',\n",
       " 'affectation',\n",
       " 'affection',\n",
       " 'affectionate',\n",
       " 'affinity',\n",
       " 'affirm',\n",
       " 'affirmation',\n",
       " 'affirmative',\n",
       " 'affluence',\n",
       " 'affluent',\n",
       " 'afford',\n",
       " 'affordable',\n",
       " 'affordably',\n",
       " 'afordable',\n",
       " 'agile',\n",
       " 'agilely',\n",
       " 'agility',\n",
       " 'agreeable',\n",
       " 'agreeableness',\n",
       " 'agreeably',\n",
       " 'all-around',\n",
       " 'alluring',\n",
       " 'alluringly',\n",
       " 'altruistic',\n",
       " 'altruistically',\n",
       " 'amaze',\n",
       " 'amazed',\n",
       " 'amazement',\n",
       " 'amazes',\n",
       " 'amazing',\n",
       " 'amazingly',\n",
       " 'ambitious',\n",
       " 'ambitiously',\n",
       " 'ameliorate',\n",
       " 'amenable',\n",
       " 'amenity',\n",
       " 'amiability',\n",
       " 'amiabily',\n",
       " 'amiable',\n",
       " 'amicability',\n",
       " 'amicable',\n",
       " 'amicably',\n",
       " 'amity',\n",
       " 'ample',\n",
       " 'amply',\n",
       " 'amuse',\n",
       " 'amusing',\n",
       " 'amusingly',\n",
       " 'angel',\n",
       " 'angelic',\n",
       " 'apotheosis',\n",
       " 'appeal',\n",
       " 'appealing',\n",
       " 'applaud',\n",
       " 'appreciable',\n",
       " 'appreciate',\n",
       " 'appreciated',\n",
       " 'appreciates',\n",
       " 'appreciative',\n",
       " 'appreciatively',\n",
       " 'appropriate',\n",
       " 'approval',\n",
       " 'approve',\n",
       " 'ardent',\n",
       " 'ardently',\n",
       " 'ardor',\n",
       " 'articulate',\n",
       " 'aspiration',\n",
       " 'aspirations',\n",
       " 'aspire',\n",
       " 'assurance',\n",
       " 'assurances',\n",
       " 'assure',\n",
       " 'assuredly',\n",
       " 'assuring',\n",
       " 'astonish',\n",
       " 'astonished',\n",
       " 'astonishing',\n",
       " 'astonishingly',\n",
       " 'astonishment',\n",
       " 'astound',\n",
       " 'astounded',\n",
       " 'astounding',\n",
       " 'astoundingly',\n",
       " 'astutely',\n",
       " 'attentive',\n",
       " 'attraction',\n",
       " 'attractive',\n",
       " 'attractively',\n",
       " 'attune',\n",
       " 'audible',\n",
       " 'audibly',\n",
       " 'auspicious',\n",
       " 'authentic',\n",
       " 'authoritative',\n",
       " 'autonomous',\n",
       " 'available',\n",
       " 'aver',\n",
       " 'avid',\n",
       " 'avidly',\n",
       " 'award',\n",
       " 'awarded',\n",
       " 'awards',\n",
       " 'awe',\n",
       " 'awed',\n",
       " 'awesome',\n",
       " 'awesomely',\n",
       " 'awesomeness',\n",
       " 'awestruck',\n",
       " 'awsome',\n",
       " 'backbone',\n",
       " 'balanced',\n",
       " 'bargain',\n",
       " 'beauteous',\n",
       " 'beautiful',\n",
       " 'beautifullly',\n",
       " 'beautifully',\n",
       " 'beautify',\n",
       " 'beauty',\n",
       " 'beckon',\n",
       " 'beckoned',\n",
       " 'beckoning',\n",
       " 'beckons',\n",
       " 'believable',\n",
       " 'believeable',\n",
       " 'beloved',\n",
       " 'benefactor',\n",
       " 'beneficent',\n",
       " 'beneficial',\n",
       " 'beneficially',\n",
       " 'beneficiary',\n",
       " 'benefit',\n",
       " 'benefits',\n",
       " 'benevolence',\n",
       " 'benevolent',\n",
       " 'benifits',\n",
       " 'best',\n",
       " 'best-known',\n",
       " 'best-performing',\n",
       " 'best-selling',\n",
       " 'better',\n",
       " 'better-known',\n",
       " 'better-than-expected',\n",
       " 'beutifully',\n",
       " 'blameless',\n",
       " 'bless',\n",
       " 'blessing',\n",
       " 'bliss',\n",
       " 'blissful',\n",
       " 'blissfully',\n",
       " 'blithe',\n",
       " 'blockbuster',\n",
       " 'bloom',\n",
       " 'blossom',\n",
       " 'bolster',\n",
       " 'bonny',\n",
       " 'bonus',\n",
       " 'bonuses',\n",
       " 'boom',\n",
       " 'booming',\n",
       " 'boost',\n",
       " 'boundless',\n",
       " 'bountiful',\n",
       " 'brainiest',\n",
       " 'brainy',\n",
       " 'brand-new',\n",
       " 'brave',\n",
       " 'bravery',\n",
       " 'bravo',\n",
       " 'breakthrough',\n",
       " 'breakthroughs',\n",
       " 'breathlessness',\n",
       " 'breathtaking',\n",
       " 'breathtakingly',\n",
       " 'breeze',\n",
       " 'bright',\n",
       " 'brighten',\n",
       " 'brighter',\n",
       " 'brightest',\n",
       " 'brilliance',\n",
       " 'brilliances',\n",
       " 'brilliant',\n",
       " 'brilliantly',\n",
       " 'brisk',\n",
       " 'brotherly',\n",
       " 'bullish',\n",
       " 'buoyant',\n",
       " 'cajole',\n",
       " 'calm',\n",
       " 'calming',\n",
       " 'calmness',\n",
       " 'capability',\n",
       " 'capable',\n",
       " 'capably',\n",
       " 'captivate',\n",
       " 'captivating',\n",
       " 'carefree',\n",
       " 'cashback',\n",
       " 'cashbacks',\n",
       " 'catchy',\n",
       " 'celebrate',\n",
       " 'celebrated',\n",
       " 'celebration',\n",
       " 'celebratory',\n",
       " 'champ',\n",
       " 'champion',\n",
       " 'charisma',\n",
       " 'charismatic',\n",
       " 'charitable',\n",
       " 'charm',\n",
       " 'charming',\n",
       " 'charmingly',\n",
       " 'chaste',\n",
       " 'cheaper',\n",
       " 'cheapest',\n",
       " 'cheer',\n",
       " 'cheerful',\n",
       " 'cheery',\n",
       " 'cherish',\n",
       " 'cherished',\n",
       " 'cherub',\n",
       " 'chic',\n",
       " 'chivalrous',\n",
       " 'chivalry',\n",
       " 'civility',\n",
       " 'civilize',\n",
       " 'clarity',\n",
       " 'classic',\n",
       " 'classy',\n",
       " 'clean',\n",
       " 'cleaner',\n",
       " 'cleanest',\n",
       " 'cleanliness',\n",
       " 'cleanly',\n",
       " 'clear',\n",
       " 'clear-cut',\n",
       " 'cleared',\n",
       " 'clearer',\n",
       " 'clearly',\n",
       " 'clears',\n",
       " 'clever',\n",
       " 'cleverly',\n",
       " 'cohere',\n",
       " 'coherence',\n",
       " 'coherent',\n",
       " 'cohesive',\n",
       " 'colorful',\n",
       " 'comely',\n",
       " 'comfort',\n",
       " 'comfortable',\n",
       " 'comfortably',\n",
       " 'comforting',\n",
       " 'comfy',\n",
       " 'commend',\n",
       " 'commendable',\n",
       " 'commendably',\n",
       " 'commitment',\n",
       " 'commodious',\n",
       " 'compact',\n",
       " 'compactly',\n",
       " 'compassion',\n",
       " 'compassionate',\n",
       " 'compatible',\n",
       " 'competitive',\n",
       " 'complement',\n",
       " 'complementary',\n",
       " 'complemented',\n",
       " 'complements',\n",
       " 'compliant',\n",
       " 'compliment',\n",
       " 'complimentary',\n",
       " 'comprehensive',\n",
       " 'conciliate',\n",
       " 'conciliatory',\n",
       " 'concise',\n",
       " 'confidence',\n",
       " 'confident',\n",
       " 'congenial',\n",
       " 'congratulate',\n",
       " 'congratulation',\n",
       " 'congratulations',\n",
       " 'congratulatory',\n",
       " 'conscientious',\n",
       " 'considerate',\n",
       " 'consistent',\n",
       " 'consistently',\n",
       " 'constructive',\n",
       " 'consummate',\n",
       " 'contentment',\n",
       " 'continuity',\n",
       " 'contrasty',\n",
       " 'contribution',\n",
       " 'convenience',\n",
       " 'convenient',\n",
       " 'conveniently',\n",
       " 'convience',\n",
       " 'convienient',\n",
       " 'convient',\n",
       " 'convincing',\n",
       " 'convincingly',\n",
       " 'cool',\n",
       " 'coolest',\n",
       " 'cooperative',\n",
       " 'cooperatively',\n",
       " 'cornerstone',\n",
       " 'correct',\n",
       " 'correctly',\n",
       " 'cost-effective',\n",
       " 'cost-saving',\n",
       " 'counter-attack',\n",
       " 'counter-attacks',\n",
       " 'courage',\n",
       " 'courageous',\n",
       " 'courageously',\n",
       " 'courageousness',\n",
       " 'courteous',\n",
       " 'courtly',\n",
       " 'covenant',\n",
       " 'cozy',\n",
       " 'creative',\n",
       " 'credence',\n",
       " 'credible',\n",
       " 'crisp',\n",
       " 'crisper',\n",
       " 'cure',\n",
       " 'cure-all',\n",
       " 'cushy',\n",
       " 'cute',\n",
       " 'cuteness',\n",
       " 'danke',\n",
       " 'danken',\n",
       " 'daring',\n",
       " 'daringly',\n",
       " 'darling',\n",
       " 'dashing',\n",
       " 'dauntless',\n",
       " 'dawn',\n",
       " 'dazzle',\n",
       " 'dazzled',\n",
       " 'dazzling',\n",
       " 'dead-cheap',\n",
       " 'dead-on',\n",
       " 'decency',\n",
       " 'decent',\n",
       " 'decisive',\n",
       " 'decisiveness',\n",
       " 'dedicated',\n",
       " 'defeat',\n",
       " 'defeated',\n",
       " 'defeating',\n",
       " 'defeats',\n",
       " 'defender',\n",
       " 'deference',\n",
       " 'deft',\n",
       " 'deginified',\n",
       " 'delectable',\n",
       " 'delicacy',\n",
       " 'delicate',\n",
       " 'delicious',\n",
       " 'delight',\n",
       " 'delighted',\n",
       " 'delightful',\n",
       " 'delightfully',\n",
       " 'delightfulness',\n",
       " 'dependable',\n",
       " 'dependably',\n",
       " 'deservedly',\n",
       " 'deserving',\n",
       " 'desirable',\n",
       " 'desiring',\n",
       " 'desirous',\n",
       " 'destiny',\n",
       " 'detachable',\n",
       " 'devout',\n",
       " 'dexterous',\n",
       " 'dexterously',\n",
       " 'dextrous',\n",
       " 'dignified',\n",
       " 'dignify',\n",
       " 'dignity',\n",
       " 'diligence',\n",
       " 'diligent',\n",
       " 'diligently',\n",
       " 'diplomatic',\n",
       " 'dirt-cheap',\n",
       " 'distinction',\n",
       " 'distinctive',\n",
       " 'distinguished',\n",
       " 'diversified',\n",
       " 'divine',\n",
       " 'divinely',\n",
       " 'dominate',\n",
       " 'dominated',\n",
       " 'dominates',\n",
       " 'dote',\n",
       " 'dotingly',\n",
       " 'doubtless',\n",
       " 'dreamland',\n",
       " 'dumbfounded',\n",
       " 'dumbfounding',\n",
       " 'dummy-proof',\n",
       " 'durable',\n",
       " 'dynamic',\n",
       " 'eager',\n",
       " 'eagerly',\n",
       " 'eagerness',\n",
       " 'earnest',\n",
       " 'earnestly',\n",
       " 'earnestness',\n",
       " 'ease',\n",
       " 'eased',\n",
       " 'eases',\n",
       " 'easier',\n",
       " 'easiest',\n",
       " 'easiness',\n",
       " 'easing',\n",
       " 'easy',\n",
       " 'easy-to-use',\n",
       " 'easygoing',\n",
       " 'ebullience',\n",
       " 'ebullient',\n",
       " 'ebulliently',\n",
       " 'ecenomical',\n",
       " 'economical',\n",
       " 'ecstasies',\n",
       " 'ecstasy',\n",
       " 'ecstatic',\n",
       " 'ecstatically',\n",
       " 'edify',\n",
       " 'educated',\n",
       " 'effective',\n",
       " 'effectively',\n",
       " 'effectiveness',\n",
       " 'effectual',\n",
       " 'efficacious',\n",
       " 'efficient',\n",
       " 'efficiently',\n",
       " 'effortless',\n",
       " 'effortlessly',\n",
       " 'effusion',\n",
       " 'effusive',\n",
       " 'effusively',\n",
       " 'effusiveness',\n",
       " 'elan',\n",
       " 'elate',\n",
       " 'elated',\n",
       " 'elatedly',\n",
       " 'elation',\n",
       " 'electrify',\n",
       " 'elegance',\n",
       " 'elegant',\n",
       " 'elegantly',\n",
       " 'elevate',\n",
       " 'elite',\n",
       " 'eloquence',\n",
       " 'eloquent',\n",
       " 'eloquently',\n",
       " 'embolden',\n",
       " 'eminence',\n",
       " 'eminent',\n",
       " 'empathize',\n",
       " 'empathy',\n",
       " 'empower',\n",
       " 'empowerment',\n",
       " 'enchant',\n",
       " 'enchanted',\n",
       " 'enchanting',\n",
       " 'enchantingly',\n",
       " 'encourage',\n",
       " 'encouragement',\n",
       " 'encouraging',\n",
       " 'encouragingly',\n",
       " 'endear',\n",
       " 'endearing',\n",
       " 'endorse',\n",
       " 'endorsed',\n",
       " 'endorsement',\n",
       " 'endorses',\n",
       " 'endorsing',\n",
       " 'energetic',\n",
       " 'energize',\n",
       " 'energy-efficient',\n",
       " 'energy-saving',\n",
       " 'engaging',\n",
       " 'engrossing',\n",
       " 'enhance',\n",
       " 'enhanced',\n",
       " 'enhancement',\n",
       " 'enhances',\n",
       " 'enjoy',\n",
       " 'enjoyable',\n",
       " 'enjoyably',\n",
       " 'enjoyed',\n",
       " 'enjoying',\n",
       " 'enjoyment',\n",
       " 'enjoys',\n",
       " 'enlighten',\n",
       " 'enlightenment',\n",
       " 'enliven',\n",
       " 'ennoble',\n",
       " 'enough',\n",
       " 'enrapt',\n",
       " 'enrapture',\n",
       " 'enraptured',\n",
       " 'enrich',\n",
       " 'enrichment',\n",
       " 'enterprising',\n",
       " 'entertain',\n",
       " 'entertaining',\n",
       " 'entertains',\n",
       " 'enthral',\n",
       " 'enthrall',\n",
       " 'enthralled',\n",
       " 'enthuse',\n",
       " 'enthusiasm',\n",
       " 'enthusiast',\n",
       " 'enthusiastic',\n",
       " 'enthusiastically',\n",
       " 'entice',\n",
       " 'enticed',\n",
       " 'enticing',\n",
       " 'enticingly',\n",
       " 'entranced',\n",
       " 'entrancing',\n",
       " 'entrust',\n",
       " 'enviable',\n",
       " 'enviably',\n",
       " 'envious',\n",
       " 'enviously',\n",
       " 'enviousness',\n",
       " 'envy',\n",
       " 'equitable',\n",
       " 'ergonomical',\n",
       " 'err-free',\n",
       " 'erudite',\n",
       " 'ethical',\n",
       " 'eulogize',\n",
       " 'euphoria',\n",
       " 'euphoric',\n",
       " 'euphorically',\n",
       " 'evaluative',\n",
       " 'evenly',\n",
       " 'eventful',\n",
       " 'everlasting',\n",
       " 'evocative',\n",
       " 'exalt',\n",
       " 'exaltation',\n",
       " 'exalted',\n",
       " 'exaltedly',\n",
       " 'exalting',\n",
       " 'exaltingly',\n",
       " 'examplar',\n",
       " 'examplary',\n",
       " 'excallent',\n",
       " 'exceed',\n",
       " 'exceeded',\n",
       " 'exceeding',\n",
       " 'exceedingly',\n",
       " 'exceeds',\n",
       " 'excel',\n",
       " 'exceled',\n",
       " 'excelent',\n",
       " 'excellant',\n",
       " 'excelled',\n",
       " 'excellence',\n",
       " 'excellency',\n",
       " 'excellent',\n",
       " 'excellently',\n",
       " 'excels',\n",
       " 'exceptional',\n",
       " 'exceptionally',\n",
       " 'excite',\n",
       " 'excited',\n",
       " 'excitedly',\n",
       " 'excitedness',\n",
       " 'excitement',\n",
       " 'excites',\n",
       " 'exciting',\n",
       " 'excitingly',\n",
       " 'exellent',\n",
       " 'exemplar',\n",
       " 'exemplary',\n",
       " 'exhilarate',\n",
       " 'exhilarating',\n",
       " 'exhilaratingly',\n",
       " 'exhilaration',\n",
       " 'exonerate',\n",
       " 'expansive',\n",
       " 'expeditiously',\n",
       " 'expertly',\n",
       " 'exquisite',\n",
       " 'exquisitely',\n",
       " 'extol',\n",
       " 'extoll',\n",
       " 'extraordinarily',\n",
       " 'extraordinary',\n",
       " 'exuberance',\n",
       " 'exuberant',\n",
       " 'exuberantly',\n",
       " 'exult',\n",
       " 'exultant',\n",
       " 'exultation',\n",
       " 'exultingly',\n",
       " 'eye-catch',\n",
       " 'eye-catching',\n",
       " 'eyecatch',\n",
       " 'eyecatching',\n",
       " 'fabulous',\n",
       " 'fabulously',\n",
       " 'facilitate',\n",
       " 'fair',\n",
       " 'fairly',\n",
       " 'fairness',\n",
       " 'faith',\n",
       " 'faithful',\n",
       " 'faithfully',\n",
       " 'faithfulness',\n",
       " 'fame',\n",
       " 'famed',\n",
       " 'famous',\n",
       " 'famously',\n",
       " 'fancier',\n",
       " 'fancinating',\n",
       " 'fancy',\n",
       " 'fanfare',\n",
       " 'fans',\n",
       " 'fantastic',\n",
       " 'fantastically',\n",
       " 'fascinate',\n",
       " 'fascinating',\n",
       " 'fascinatingly',\n",
       " 'fascination',\n",
       " 'fashionable',\n",
       " 'fashionably',\n",
       " 'fast',\n",
       " 'fast-growing',\n",
       " 'fast-paced',\n",
       " 'faster',\n",
       " 'fastest',\n",
       " 'fastest-growing',\n",
       " 'faultless',\n",
       " 'fav',\n",
       " 'fave',\n",
       " 'favor',\n",
       " 'favorable',\n",
       " 'favored',\n",
       " 'favorite',\n",
       " 'favorited',\n",
       " 'favour',\n",
       " 'fearless',\n",
       " 'fearlessly',\n",
       " 'feasible',\n",
       " 'feasibly',\n",
       " 'feat',\n",
       " 'feature-rich',\n",
       " 'fecilitous',\n",
       " 'feisty',\n",
       " 'felicitate',\n",
       " 'felicitous',\n",
       " 'felicity',\n",
       " 'fertile',\n",
       " 'fervent',\n",
       " 'fervently',\n",
       " 'fervid',\n",
       " 'fervidly',\n",
       " 'fervor',\n",
       " 'festive',\n",
       " 'fidelity',\n",
       " 'fiery',\n",
       " 'fine',\n",
       " 'fine-looking',\n",
       " 'finely',\n",
       " 'finer',\n",
       " 'finest',\n",
       " 'firmer',\n",
       " 'first-class',\n",
       " 'first-in-class',\n",
       " 'first-rate',\n",
       " 'flashy',\n",
       " 'flatter',\n",
       " 'flattering',\n",
       " 'flatteringly',\n",
       " 'flawless',\n",
       " 'flawlessly',\n",
       " 'flexibility',\n",
       " 'flexible',\n",
       " 'flourish',\n",
       " 'flourishing',\n",
       " 'fluent',\n",
       " 'flutter',\n",
       " 'fond',\n",
       " 'fondly',\n",
       " 'fondness',\n",
       " 'foolproof',\n",
       " 'foremost',\n",
       " 'foresight',\n",
       " 'formidable',\n",
       " 'fortitude',\n",
       " 'fortuitous',\n",
       " 'fortuitously',\n",
       " 'fortunate',\n",
       " 'fortunately',\n",
       " 'fortune',\n",
       " 'fragrant',\n",
       " 'free',\n",
       " 'freed',\n",
       " 'freedom',\n",
       " 'freedoms',\n",
       " 'fresh',\n",
       " 'fresher',\n",
       " 'freshest',\n",
       " 'friendliness',\n",
       " 'friendly',\n",
       " 'frolic',\n",
       " 'frugal',\n",
       " 'fruitful',\n",
       " 'ftw',\n",
       " 'fulfillment',\n",
       " 'fun',\n",
       " 'futurestic',\n",
       " 'futuristic',\n",
       " 'gaiety',\n",
       " 'gaily',\n",
       " 'gain',\n",
       " 'gained',\n",
       " 'gainful',\n",
       " 'gainfully',\n",
       " 'gaining',\n",
       " 'gains',\n",
       " 'gallant',\n",
       " 'gallantly',\n",
       " 'galore',\n",
       " 'geekier',\n",
       " 'geeky',\n",
       " 'gem',\n",
       " 'gems',\n",
       " 'generosity',\n",
       " 'generous',\n",
       " 'generously',\n",
       " 'genial',\n",
       " 'genius',\n",
       " 'gentle',\n",
       " 'gentlest',\n",
       " 'genuine',\n",
       " 'gifted',\n",
       " 'glad',\n",
       " 'gladden',\n",
       " 'gladly',\n",
       " 'gladness',\n",
       " 'glamorous',\n",
       " 'glee',\n",
       " 'gleeful',\n",
       " 'gleefully',\n",
       " 'glimmer',\n",
       " 'glimmering',\n",
       " 'glisten',\n",
       " 'glistening',\n",
       " 'glitter',\n",
       " 'glitz',\n",
       " 'glorify',\n",
       " 'glorious',\n",
       " 'gloriously',\n",
       " 'glory',\n",
       " 'glow',\n",
       " 'glowing',\n",
       " 'glowingly',\n",
       " 'god-given',\n",
       " 'god-send',\n",
       " 'godlike',\n",
       " 'godsend',\n",
       " 'gold',\n",
       " 'golden',\n",
       " 'good',\n",
       " 'goodly',\n",
       " 'goodness',\n",
       " 'goodwill',\n",
       " 'goood',\n",
       " 'gooood',\n",
       " 'gorgeous',\n",
       " 'gorgeously',\n",
       " 'grace',\n",
       " 'graceful',\n",
       " 'gracefully',\n",
       " 'gracious',\n",
       " 'graciously',\n",
       " 'graciousness',\n",
       " 'grand',\n",
       " 'grandeur',\n",
       " 'grateful',\n",
       " 'gratefully',\n",
       " 'gratification',\n",
       " 'gratified',\n",
       " 'gratifies',\n",
       " 'gratify',\n",
       " 'gratifying',\n",
       " 'gratifyingly',\n",
       " 'gratitude',\n",
       " 'great',\n",
       " 'greatest',\n",
       " 'greatness',\n",
       " 'grin',\n",
       " 'groundbreaking',\n",
       " 'guarantee',\n",
       " 'guidance',\n",
       " 'guiltless',\n",
       " 'gumption',\n",
       " 'gush',\n",
       " 'gusto',\n",
       " 'gutsy',\n",
       " 'hail',\n",
       " 'halcyon',\n",
       " 'hale',\n",
       " 'hallmark',\n",
       " 'hallmarks',\n",
       " 'hallowed',\n",
       " 'handier',\n",
       " 'handily',\n",
       " 'hands-down',\n",
       " 'handsome',\n",
       " 'handsomely',\n",
       " 'handy',\n",
       " 'happier',\n",
       " 'happily',\n",
       " 'happiness',\n",
       " 'happy',\n",
       " 'hard-working',\n",
       " 'hardier',\n",
       " 'hardy',\n",
       " 'harmless',\n",
       " 'harmonious',\n",
       " 'harmoniously',\n",
       " 'harmonize',\n",
       " 'harmony',\n",
       " 'headway',\n",
       " 'heal',\n",
       " 'healthful',\n",
       " 'healthy',\n",
       " 'hearten',\n",
       " 'heartening',\n",
       " 'heartfelt',\n",
       " 'heartily',\n",
       " 'heartwarming',\n",
       " 'heaven',\n",
       " 'heavenly',\n",
       " 'helped',\n",
       " 'helpful',\n",
       " 'helping',\n",
       " 'hero',\n",
       " 'heroic',\n",
       " 'heroically',\n",
       " 'heroine',\n",
       " 'heroize',\n",
       " 'heros',\n",
       " 'high-quality',\n",
       " 'high-spirited',\n",
       " 'hilarious',\n",
       " 'holy',\n",
       " 'homage',\n",
       " 'honest',\n",
       " 'honesty',\n",
       " 'honor',\n",
       " 'honorable',\n",
       " 'honored',\n",
       " 'honoring',\n",
       " 'hooray',\n",
       " 'hopeful',\n",
       " 'hospitable',\n",
       " 'hot',\n",
       " 'hotcake',\n",
       " 'hotcakes',\n",
       " 'hottest',\n",
       " 'hug',\n",
       " 'humane',\n",
       " 'humble',\n",
       " 'humility',\n",
       " 'humor',\n",
       " 'humorous',\n",
       " 'humorously',\n",
       " 'humour',\n",
       " 'humourous',\n",
       " 'ideal',\n",
       " 'idealize',\n",
       " 'ideally',\n",
       " 'idol',\n",
       " 'idolize',\n",
       " 'idolized',\n",
       " 'idyllic',\n",
       " 'illuminate',\n",
       " 'illuminati',\n",
       " 'illuminating',\n",
       " 'illumine',\n",
       " 'illustrious',\n",
       " 'ilu',\n",
       " 'imaculate',\n",
       " 'imaginative',\n",
       " 'immaculate',\n",
       " 'immaculately',\n",
       " 'immense',\n",
       " 'impartial',\n",
       " 'impartiality',\n",
       " 'impartially',\n",
       " 'impassioned',\n",
       " 'impeccable',\n",
       " 'impeccably',\n",
       " 'important',\n",
       " 'impress',\n",
       " 'impressed',\n",
       " 'impresses',\n",
       " 'impressive',\n",
       " 'impressively',\n",
       " 'impressiveness',\n",
       " 'improve',\n",
       " 'improved',\n",
       " 'improvement',\n",
       " 'improvements',\n",
       " 'improves',\n",
       " 'improving',\n",
       " 'incredible',\n",
       " 'incredibly',\n",
       " 'indebted',\n",
       " 'individualized',\n",
       " 'indulgence',\n",
       " 'indulgent',\n",
       " 'industrious',\n",
       " 'inestimable',\n",
       " 'inestimably',\n",
       " 'inexpensive',\n",
       " 'infallibility',\n",
       " 'infallible',\n",
       " 'infallibly',\n",
       " 'influential',\n",
       " 'ingenious',\n",
       " 'ingeniously',\n",
       " 'ingenuity',\n",
       " 'ingenuous',\n",
       " 'ingenuously',\n",
       " 'innocuous',\n",
       " 'innovation',\n",
       " 'innovative',\n",
       " 'inpressed',\n",
       " 'insightful',\n",
       " ...]"
      ]
     },
     "execution_count": 53,
     "metadata": {},
     "output_type": "execute_result"
    }
   ],
   "source": [
    "pos_words"
   ]
  },
  {
   "cell_type": "code",
   "execution_count": 54,
   "id": "76708079",
   "metadata": {},
   "outputs": [],
   "source": [
    "def get_sentiment_score_oplex(text):\n",
    "    \n",
    "    \"\"\"\n",
    "        This method returns the sentiment score of a given text using nltk opinion lexicon.\n",
    "        input: text\n",
    "        output: numeric (double) score, >0 means positive sentiment and <0 means negative sentiment.\n",
    "    \"\"\"    \n",
    "    total_score = 0\n",
    "\n",
    "    raw_sentences = sent_tokenize(text)\n",
    "    \n",
    "    for sentence in raw_sentences:\n",
    "\n",
    "        sent_score = 0     \n",
    "        sentence = str(sentence)\n",
    "        sentence = sentence.replace(\"<br />\",\" \").translate(str.maketrans('','',punctuation)).lower()\n",
    "        tokens = TreebankWordTokenizer().tokenize(text)\n",
    "        for token in tokens:\n",
    "            sent_score = sent_score + 1 if token in pos_words else (sent_score - 1 if token in neg_words else sent_score)\n",
    "        total_score = total_score + (sent_score / len(tokens))\n",
    "\n",
    "    \n",
    "    return total_score"
   ]
  },
  {
   "cell_type": "code",
   "execution_count": 55,
   "id": "d4a5934f",
   "metadata": {},
   "outputs": [],
   "source": [
    "reviews['oplex_sentiment_score'] = reviews['reviewText'].apply(lambda x: get_sentiment_score_oplex(str(x)))\n"
   ]
  },
  {
   "cell_type": "code",
   "execution_count": 56,
   "id": "687c8f08",
   "metadata": {},
   "outputs": [
    {
     "data": {
      "image/png": "[encoded data removed]",
      "text/plain": [
       "<Figure size 1440x720 with 1 Axes>"
      ]
     },
     "metadata": {
      "needs_background": "light"
     },
     "output_type": "display_data"
    }
   ],
   "source": [
    "fig , ax = plt.subplots(nrows=1, ncols=1, figsize=(20,10))\n",
    "sns.histplot(x='oplex_sentiment_score',\\\n",
    "             data=reviews.query(\"oplex_sentiment_score < 1 and oplex_sentiment_score>-1\"), ax=ax)\n",
    "plt.show()"
   ]
  },
  {
   "cell_type": "code",
   "execution_count": 57,
   "id": "878ba02b",
   "metadata": {},
   "outputs": [],
   "source": [
    "reviews['oplex_sentiment'] = \\\n",
    "    reviews['oplex_sentiment_score'].apply(lambda x: \"positive\" if x>0.1 else (\"negative\" if x<0 else \"neutral\"))\n"
   ]
  },
  {
   "cell_type": "code",
   "execution_count": 58,
   "id": "fe46ba36",
   "metadata": {},
   "outputs": [
    {
     "data": {
      "text/plain": [
       "positive    2062\n",
       "neutral     1442\n",
       "negative     996\n",
       "Name: oplex_sentiment, dtype: int64"
      ]
     },
     "execution_count": 58,
     "metadata": {},
     "output_type": "execute_result"
    }
   ],
   "source": [
    "reviews['oplex_sentiment'].value_counts(dropna=False)\n"
   ]
  },
  {
   "cell_type": "code",
   "execution_count": 59,
   "id": "be6bc7fb",
   "metadata": {},
   "outputs": [
    {
     "data": {
      "text/plain": [
       "<matplotlib.axes._subplots.AxesSubplot at 0x7fa7a3660430>"
      ]
     },
     "execution_count": 59,
     "metadata": {},
     "output_type": "execute_result"
    },
    {
     "data": {
      "image/png": "[encoded data removed]",
      "text/plain": [
       "<Figure size 432x288 with 1 Axes>"
      ]
     },
     "metadata": {
      "needs_background": "light"
     },
     "output_type": "display_data"
    }
   ],
   "source": [
    "sns.countplot(x='overall', hue='oplex_sentiment' ,data = reviews)\n"
   ]
  },
  {
   "cell_type": "code",
   "execution_count": 60,
   "id": "77647383",
   "metadata": {},
   "outputs": [
    {
     "data": {
      "text/plain": [
       "<matplotlib.axes._subplots.AxesSubplot at 0x7fa7a24ecdc0>"
      ]
     },
     "execution_count": 60,
     "metadata": {},
     "output_type": "execute_result"
    },
    {
     "data": {
      "image/png": "[encoded data removed]",
      "text/plain": [
       "<Figure size 432x288 with 1 Axes>"
      ]
     },
     "metadata": {
      "needs_background": "light"
     },
     "output_type": "display_data"
    }
   ],
   "source": [
    "sns.boxenplot(x='oplex_sentiment', y='overall', data = reviews)\n"
   ]
  },
  {
   "cell_type": "code",
   "execution_count": 61,
   "id": "4b87f5c6",
   "metadata": {},
   "outputs": [
    {
     "data": {
      "image/png": "[encoded data removed]",
      "text/plain": [
       "<Figure size 864x504 with 1 Axes>"
      ]
     },
     "metadata": {
      "needs_background": "light"
     },
     "output_type": "display_data"
    }
   ],
   "source": [
    "fig, ax = plt.subplots(nrows=1, ncols=1, figsize = (12,7))\n",
    "sns.boxenplot(x='overall', y='oplex_sentiment_score', data = reviews, ax=ax)\n",
    "plt.show()\n"
   ]
  },
  {
   "cell_type": "code",
   "execution_count": 62,
   "id": "c2872d45",
   "metadata": {},
   "outputs": [],
   "source": [
    "y_oplex_pred = reviews['oplex_sentiment'].tolist()\n"
   ]
  },
  {
   "cell_type": "code",
   "execution_count": 63,
   "id": "f57336a3",
   "metadata": {},
   "outputs": [],
   "source": [
    "oplex_cm = confusion_matrix(y_true, y_oplex_pred)\n"
   ]
  },
  {
   "cell_type": "code",
   "execution_count": 64,
   "id": "7c414593",
   "metadata": {},
   "outputs": [
    {
     "data": {
      "image/png": "[encoded data removed]",
      "text/plain": [
       "<Figure size 576x432 with 2 Axes>"
      ]
     },
     "metadata": {
      "needs_background": "light"
     },
     "output_type": "display_data"
    }
   ],
   "source": [
    "fig , ax = plt.subplots(nrows=1, ncols=1, figsize=(8,6))\n",
    "sns.heatmap(oplex_cm, cmap='viridis_r', annot=True, fmt='d', square=True, ax=ax)\n",
    "ax.set_xlabel('Predicted')\n",
    "ax.set_ylabel('True');"
   ]
  },
  {
   "cell_type": "code",
   "execution_count": 65,
   "id": "e2163e45",
   "metadata": {},
   "outputs": [],
   "source": [
    "oplex_cm = list(oplex_cm.ravel())\n"
   ]
  },
  {
   "cell_type": "code",
   "execution_count": 66,
   "id": "7b7a553a",
   "metadata": {},
   "outputs": [
    {
     "data": {
      "text/plain": [
       "[728, 726, 546, 100, 180, 220, 168, 536, 1296]"
      ]
     },
     "execution_count": 66,
     "metadata": {},
     "output_type": "execute_result"
    }
   ],
   "source": [
    "oplex_cm\n"
   ]
  },
  {
   "cell_type": "code",
   "execution_count": 67,
   "id": "79d5163c",
   "metadata": {},
   "outputs": [],
   "source": [
    "#NEGATIVE ASSESMENT"
   ]
  },
  {
   "cell_type": "code",
   "execution_count": 68,
   "id": "4383a74e",
   "metadata": {},
   "outputs": [],
   "source": [
    "tp, tn, fp, fn = 728, 1296+536+220+180, 726+546, 100"
   ]
  },
  {
   "cell_type": "code",
   "execution_count": 69,
   "id": "7574f696",
   "metadata": {},
   "outputs": [
    {
     "name": "stdout",
     "output_type": "stream",
     "text": [
      "recall: 0.8792270531400966\n",
      "precission: 0.364\n",
      "f1 score: 0.5148514851485149\n"
     ]
    }
   ],
   "source": [
    "recall = tp / (tp+fn)\n",
    "specifity = tn / (tn+fp)\n",
    "precision = tp/(tp+fp)\n",
    "f1 = (2*tp) / (2*tp + fp + fn)\n",
    "\n",
    "print(\"recall: {}\\nprecission: {}\\nf1 score: {}\".format(recall, precision, f1))"
   ]
  },
  {
   "cell_type": "code",
   "execution_count": 70,
   "id": "a41f62ae",
   "metadata": {},
   "outputs": [],
   "source": [
    "#Positive Label Assessment"
   ]
  },
  {
   "cell_type": "code",
   "execution_count": 71,
   "id": "ab33df25",
   "metadata": {},
   "outputs": [],
   "source": [
    "tp, tn, fp, fn = 1296, 180+220+546+726, 546+726, 536+168\n"
   ]
  },
  {
   "cell_type": "code",
   "execution_count": 72,
   "id": "87cf1cd1",
   "metadata": {},
   "outputs": [
    {
     "name": "stdout",
     "output_type": "stream",
     "text": [
      "recall: 0.648\n",
      "precission: 0.5046728971962616\n",
      "f1 score: 0.5674255691768827\n"
     ]
    }
   ],
   "source": [
    "recall = tp / (tp+fn)\n",
    "specifity = tn / (tn+fp)\n",
    "precision = tp/(tp+fp)\n",
    "f1 = (2*tp) / (2*tp + fp + fn)\n",
    "\n",
    "print(\"recall: {}\\nprecission: {}\\nf1 score: {}\".format(recall, precision, f1))"
   ]
  },
  {
   "cell_type": "code",
   "execution_count": null,
   "id": "321d7f4d",
   "metadata": {},
   "outputs": [],
   "source": []
  },
  {
   "cell_type": "code",
   "execution_count": null,
   "id": "4debadee",
   "metadata": {},
   "outputs": [],
   "source": []
  }
 ],
 "metadata": {
  "kernelspec": {
   "display_name": "Python 3",
   "language": "python",
   "name": "python3"
  },
  "language_info": {
   "codemirror_mode": {
    "name": "ipython",
    "version": 3
   },
   "file_extension": ".py",
   "mimetype": "text/x-python",
   "name": "python",
   "nbconvert_exporter": "python",
   "pygments_lexer": "ipython3",
   "version": "3.8.8"
  }
 },
 "nbformat": 4,
 "nbformat_minor": 5
}
